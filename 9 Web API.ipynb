{
 "cells": [
  {
   "cell_type": "markdown",
   "metadata": {},
   "source": [
    "# Web APIs\n",
    "\n",
    "## 1. Consuming Web APIs\n",
    "\n",
    "(Partially adapted from https://www.dataquest.io/blog/python-api-tutorial/)\n",
    "\n",
    "* https://randomuser.me/ is a random user generator \n",
    "*\tIt has an API. Go to https://api.randomuser.me/ with your browser\n",
    "*\tYou get a JSON (JavaScript Object Notation) back. A JSON is similar to a Python dictionary.  \n",
    "*  Refresh the browser\n",
    "*\tYou can add query parameters. They are added to the URL with a ? . You then add then the parameter name = the value. More the one parameter are connected with a & e.g.\n",
    "\thttp://api.open-notify.org/iss-pass.json?lat=37.78&lon=-122.41\n",
    "\n",
    "*\t Go the documentation https://randomuser.me/documentation and check how you can get multiple users and to specify constraints on the output\n",
    "*\tGo to your browser and add parameters to https://api.randomuser.me/ so that you get 5 results of only males from the US\n",
    "\n",
    "Enter the URL of your solution:"
   ]
  },
  {
   "cell_type": "code",
   "execution_count": 2,
   "metadata": {},
   "outputs": [],
   "source": [
    "# TODO: get 5 results of only males from the US\n",
    "# Enter the URL of your solution:\n",
    "url = 'https://api.randomuser.me/?gender=female&nat=us&results=5'"
   ]
  },
  {
   "cell_type": "markdown",
   "metadata": {},
   "source": [
    "* You can also get the data from the command line. Open the command line and write\n",
    "\n",
    "```bash\n",
    "curl -s https://api.randomuser.me/\n",
    "```\n",
    "\n",
    "You can also run Bash commands directly in your Jupyter Notebook with !:"
   ]
  },
  {
   "cell_type": "code",
   "execution_count": 3,
   "metadata": {},
   "outputs": [
    {
     "name": "stdout",
     "output_type": "stream",
     "text": [
      "{\"results\":[{\"gender\":\"male\",\"name\":{\"title\":\"mr\",\"first\":\"simon\",\"last\":\"rasmussen\"},\"location\":{\"street\":\"878 harevænget\",\"city\":\"nørre sundby\",\"state\":\"midtjylland\",\"postcode\":21865,\"coordinates\":{\"latitude\":\"-31.4779\",\"longitude\":\"-79.6916\"},\"timezone\":{\"offset\":\"+4:30\",\"description\":\"Kabul\"}},\"email\":\"simon.rasmussen@example.com\",\"login\":{\"uuid\":\"dda14962-7815-41a6-8ca6-612f05c45c97\",\"username\":\"redgorilla465\",\"password\":\"silverad\",\"salt\":\"EHgwgNAc\",\"md5\":\"7602eae811e92aa00a4e39efc1296193\",\"sha1\":\"52f8b678bf5f5c905f14053233dd671032eab199\",\"sha256\":\"eb667947cca451060f03ea7d69a6fdf2e61e23edf8f7abf41d40d5b9b9e8aa39\"},\"dob\":{\"date\":\"1948-05-27T22:04:08Z\",\"age\":70},\"registered\":{\"date\":\"2005-01-17T00:56:21Z\",\"age\":14},\"phone\":\"03823764\",\"cell\":\"77619592\",\"id\":{\"name\":\"CPR\",\"value\":\"837194-1953\"},\"picture\":{\"large\":\"https://randomuser.me/api/portraits/men/96.jpg\",\"medium\":\"https://randomuser.me/api/portraits/med/men/96.jpg\",\"thumbnail\":\"https://randomuser.me/api/portraits/thumb/men/96.jpg\"},\"nat\":\"DK\"}],\"info\":{\"seed\":\"451ab431cfe75095\",\"results\":1,\"page\":1,\"version\":\"1.2\"}}"
     ]
    }
   ],
   "source": [
    "!curl -s https://api.randomuser.me/"
   ]
  },
  {
   "cell_type": "markdown",
   "metadata": {},
   "source": [
    "* Import the two libraries \n",
    "    * `requests` and \n",
    "    * `json`. \n",
    "\n",
    "You can find the documentation for the requests package here:\n",
    " http://www.python-requests.org/en/latest/ \n",
    " "
   ]
  },
  {
   "cell_type": "code",
   "execution_count": 4,
   "metadata": {},
   "outputs": [],
   "source": [
    "# TODO\n",
    "import requests\n",
    "import json"
   ]
  },
  {
   "cell_type": "markdown",
   "metadata": {},
   "source": [
    "* With the requests package you can call a Web API with the URL and the method get"
   ]
  },
  {
   "cell_type": "code",
   "execution_count": 5,
   "metadata": {},
   "outputs": [],
   "source": [
    "response = requests.get(url)"
   ]
  },
  {
   "cell_type": "markdown",
   "metadata": {},
   "source": [
    "* Print the status code of the request"
   ]
  },
  {
   "cell_type": "code",
   "execution_count": 6,
   "metadata": {},
   "outputs": [
    {
     "name": "stdout",
     "output_type": "stream",
     "text": [
      "200\n"
     ]
    }
   ],
   "source": [
    "print(response.status_code)"
   ]
  },
  {
   "cell_type": "markdown",
   "metadata": {},
   "source": [
    "**The meaning of the status codes are:**\n",
    "* 200: everything went okay, and the result has been returned (if any)\n",
    "* 301: the server is redirecting you to a different endpoint. This can happen when a company switches domain names, or an endpoint name is changed.\n",
    "* 401: the server thinks you're not authenticated. This happens when you don't send the right credentials to access an API.\n",
    "* 400: the server thinks you made a bad request. This can happen when you don't send along the right data, among other things.\n",
    "* 403: the resource you're trying to access is forbidden – you don't have the right permissions to see it.\n",
    "* 404: the resource you tried to access wasn't found on the server.\n"
   ]
  },
  {
   "cell_type": "markdown",
   "metadata": {},
   "source": [
    "You can specify the query parameters for a URL with a Python dictionary like this:\n",
    "```python\n",
    "parameters = {\"lat\": 37.78, \"lon\": -122.41}\n",
    "```\n",
    "\n",
    "And pass the parameter to the request like this\n",
    "```python\n",
    "response = requests.get(\"http://api.open-notify.org/iss-pass.json\", params=parameters)\n",
    "```\n",
    "This is the same as \n",
    "```python\n",
    "response = requests.get(\"http://api.open-notify.org/iss-pass.json?lat=37.78&lon=-122.41\")\n",
    "```\n",
    "\n",
    "Alternatively you could build also the URL with the parameters by yourself with string concatenation. \n",
    "\n",
    "* Get with the request method 10 results of only males from the US.\n",
    "\n"
   ]
  },
  {
   "cell_type": "code",
   "execution_count": 7,
   "metadata": {},
   "outputs": [
    {
     "data": {
      "text/plain": [
       "<Response [200]>"
      ]
     },
     "execution_count": 7,
     "metadata": {},
     "output_type": "execute_result"
    }
   ],
   "source": [
    "# TODO: Get with the request method 10 results of only males from the US.\n",
    "requests.get(\"https://api.randomuser.me/?gender=male&nat=us&results=10\")"
   ]
  },
  {
   "cell_type": "markdown",
   "metadata": {},
   "source": [
    "* You can show the result of the request with the method text"
   ]
  },
  {
   "cell_type": "code",
   "execution_count": 16,
   "metadata": {
    "scrolled": true
   },
   "outputs": [
    {
     "data": {
      "text/plain": [
       "'{\"results\":[{\"gender\":\"female\",\"name\":{\"title\":\"ms\",\"first\":\"abigail\",\"last\":\"hill\"},\"location\":{\"street\":\"6433 e center st\",\"city\":\"lousville\",\"state\":\"south carolina\",\"postcode\":38289,\"coordinates\":{\"latitude\":\"-52.1132\",\"longitude\":\"-179.5243\"},\"timezone\":{\"offset\":\"+3:00\",\"description\":\"Baghdad, Riyadh, Moscow, St. Petersburg\"}},\"email\":\"abigail.hill@example.com\",\"login\":{\"uuid\":\"6d8a28c5-151d-4251-9fc9-797ef2331bd0\",\"username\":\"silvermouse528\",\"password\":\"watcher\",\"salt\":\"ftf1ktee\",\"md5\":\"db7e0c6ec4ef4e34bee322dce6508089\",\"sha1\":\"2e494b4704642ae15f1c01d7e95d075ce06b63e4\",\"sha256\":\"395a991b7b3168b818899592287075c9e2b66bc2438e5d2308acb5f14c517405\"},\"dob\":{\"date\":\"1976-09-11T12:01:02Z\",\"age\":42},\"registered\":{\"date\":\"2009-11-07T15:43:32Z\",\"age\":9},\"phone\":\"(912)-117-8082\",\"cell\":\"(009)-573-5363\",\"id\":{\"name\":\"SSN\",\"value\":\"731-50-7032\"},\"picture\":{\"large\":\"https://randomuser.me/api/portraits/women/88.jpg\",\"medium\":\"https://randomuser.me/api/portraits/med/women/88.jpg\",\"thumbnail\":\"https://randomuser.me/api/portraits/thumb/women/88.jpg\"},\"nat\":\"US\"},{\"gender\":\"female\",\"name\":{\"title\":\"miss\",\"first\":\"sherri\",\"last\":\"jordan\"},\"location\":{\"street\":\"9888 forest ln\",\"city\":\"fort worth\",\"state\":\"ohio\",\"postcode\":34940,\"coordinates\":{\"latitude\":\"60.5224\",\"longitude\":\"-76.0504\"},\"timezone\":{\"offset\":\"+8:00\",\"description\":\"Beijing, Perth, Singapore, Hong Kong\"}},\"email\":\"sherri.jordan@example.com\",\"login\":{\"uuid\":\"00f8b595-a5c6-4280-b163-bd74df45b4ab\",\"username\":\"sadladybug272\",\"password\":\"chrisbln\",\"salt\":\"PSR8qnJJ\",\"md5\":\"9a2de132ff3060ea94a312b187b89488\",\"sha1\":\"ea23769043cc17990d313afdbea56f1d441f97ea\",\"sha256\":\"f002d4fbe3ac0ddeaf607e1f2cc299200f10a5e15e941b3166e4b76762f79d80\"},\"dob\":{\"date\":\"1965-08-05T19:41:47Z\",\"age\":53},\"registered\":{\"date\":\"2014-12-08T14:47:53Z\",\"age\":4},\"phone\":\"(383)-144-7359\",\"cell\":\"(791)-998-0663\",\"id\":{\"name\":\"SSN\",\"value\":\"528-68-2434\"},\"picture\":{\"large\":\"https://randomuser.me/api/portraits/women/85.jpg\",\"medium\":\"https://randomuser.me/api/portraits/med/women/85.jpg\",\"thumbnail\":\"https://randomuser.me/api/portraits/thumb/women/85.jpg\"},\"nat\":\"US\"},{\"gender\":\"female\",\"name\":{\"title\":\"mrs\",\"first\":\"anita\",\"last\":\"fowler\"},\"location\":{\"street\":\"4062 wycliff ave\",\"city\":\"arlington\",\"state\":\"washington\",\"postcode\":39070,\"coordinates\":{\"latitude\":\"34.9542\",\"longitude\":\"168.3807\"},\"timezone\":{\"offset\":\"+7:00\",\"description\":\"Bangkok, Hanoi, Jakarta\"}},\"email\":\"anita.fowler@example.com\",\"login\":{\"uuid\":\"43993b73-6ce6-4c51-b7c4-9fce2fed0aa5\",\"username\":\"tinyrabbit130\",\"password\":\"misty\",\"salt\":\"gT1BFGiJ\",\"md5\":\"859c93da92c02cf53004f1263f22bac5\",\"sha1\":\"54614b25d6ade7479e1a86af091d75ecd1580c39\",\"sha256\":\"4004fc8167b93d6f199170b410d9a48446d4647cb4e25a51ca578ed677c6b3d7\"},\"dob\":{\"date\":\"1970-11-24T19:35:26Z\",\"age\":48},\"registered\":{\"date\":\"2014-10-12T07:44:34Z\",\"age\":4},\"phone\":\"(710)-570-4813\",\"cell\":\"(465)-537-8426\",\"id\":{\"name\":\"SSN\",\"value\":\"449-96-7624\"},\"picture\":{\"large\":\"https://randomuser.me/api/portraits/women/66.jpg\",\"medium\":\"https://randomuser.me/api/portraits/med/women/66.jpg\",\"thumbnail\":\"https://randomuser.me/api/portraits/thumb/women/66.jpg\"},\"nat\":\"US\"},{\"gender\":\"female\",\"name\":{\"title\":\"miss\",\"first\":\"letitia\",\"last\":\"riley\"},\"location\":{\"street\":\"9600 first street\",\"city\":\"stanley\",\"state\":\"massachusetts\",\"postcode\":43679,\"coordinates\":{\"latitude\":\"2.4883\",\"longitude\":\"-75.8915\"},\"timezone\":{\"offset\":\"+5:00\",\"description\":\"Ekaterinburg, Islamabad, Karachi, Tashkent\"}},\"email\":\"letitia.riley@example.com\",\"login\":{\"uuid\":\"ebc47578-048d-46f0-a51b-d788299dc07c\",\"username\":\"bigbird268\",\"password\":\"wally\",\"salt\":\"J4rDSMRv\",\"md5\":\"e9406d58d33824a416f5318689756421\",\"sha1\":\"77b5a91bfe6cb5487b7a82d4cc561f99965ba1d8\",\"sha256\":\"fa454568d86a54c583e4f4090c7e30f8464f5ff13fbd7005701e4e0d674f14c0\"},\"dob\":{\"date\":\"1967-11-03T23:00:14Z\",\"age\":51},\"registered\":{\"date\":\"2004-04-09T02:30:40Z\",\"age\":15},\"phone\":\"(288)-464-7432\",\"cell\":\"(477)-129-4059\",\"id\":{\"name\":\"SSN\",\"value\":\"885-14-3562\"},\"picture\":{\"large\":\"https://randomuser.me/api/portraits/women/40.jpg\",\"medium\":\"https://randomuser.me/api/portraits/med/women/40.jpg\",\"thumbnail\":\"https://randomuser.me/api/portraits/thumb/women/40.jpg\"},\"nat\":\"US\"},{\"gender\":\"female\",\"name\":{\"title\":\"miss\",\"first\":\"sandra\",\"last\":\"davis\"},\"location\":{\"street\":\"317 pockrus page rd\",\"city\":\"orlando\",\"state\":\"virginia\",\"postcode\":77656,\"coordinates\":{\"latitude\":\"33.5021\",\"longitude\":\"85.8031\"},\"timezone\":{\"offset\":\"-7:00\",\"description\":\"Mountain Time (US & Canada)\"}},\"email\":\"sandra.davis@example.com\",\"login\":{\"uuid\":\"109b17e3-56a9-485c-964a-67febb93739c\",\"username\":\"smallfrog850\",\"password\":\"saturday\",\"salt\":\"Unq53x9y\",\"md5\":\"9f257d2ba0877c131052f91c0b556cb5\",\"sha1\":\"49e4d9942a313e5e504a3aed5780f42d66ce4f71\",\"sha256\":\"3e6d50a14ea46c4ab5335d79ff72b9a8d03f416f6e26a936d23b3ef772ff4d8f\"},\"dob\":{\"date\":\"1988-06-29T08:01:39Z\",\"age\":30},\"registered\":{\"date\":\"2003-01-12T02:53:12Z\",\"age\":16},\"phone\":\"(094)-192-6026\",\"cell\":\"(381)-090-5434\",\"id\":{\"name\":\"SSN\",\"value\":\"011-06-0240\"},\"picture\":{\"large\":\"https://randomuser.me/api/portraits/women/14.jpg\",\"medium\":\"https://randomuser.me/api/portraits/med/women/14.jpg\",\"thumbnail\":\"https://randomuser.me/api/portraits/thumb/women/14.jpg\"},\"nat\":\"US\"}],\"info\":{\"seed\":\"a79d420bbf002d8d\",\"results\":5,\"page\":1,\"version\":\"1.2\"}}'"
      ]
     },
     "execution_count": 16,
     "metadata": {},
     "output_type": "execute_result"
    }
   ],
   "source": [
    "response.text"
   ]
  },
  {
   "cell_type": "markdown",
   "metadata": {},
   "source": [
    "* You can convert the data from JSON to a Python dictionary with the package JSON"
   ]
  },
  {
   "cell_type": "code",
   "execution_count": 8,
   "metadata": {},
   "outputs": [],
   "source": [
    "data = json.loads(response.text)"
   ]
  },
  {
   "cell_type": "markdown",
   "metadata": {},
   "source": [
    "* Check the type of variable data"
   ]
  },
  {
   "cell_type": "code",
   "execution_count": null,
   "metadata": {
    "collapsed": true
   },
   "outputs": [],
   "source": [
    "# TODO"
   ]
  },
  {
   "cell_type": "code",
   "execution_count": 9,
   "metadata": {},
   "outputs": [
    {
     "name": "stdout",
     "output_type": "stream",
     "text": [
      "{'results': [{'gender': 'female', 'name': {'title': 'mrs', 'first': 'joann', 'last': 'howard'}, 'location': {'street': '8133 ranchview dr', 'city': 'utica', 'state': 'connecticut', 'postcode': 79758, 'coordinates': {'latitude': '39.1119', 'longitude': '-10.5756'}, 'timezone': {'offset': '+5:30', 'description': 'Bombay, Calcutta, Madras, New Delhi'}}, 'email': 'joann.howard@example.com', 'login': {'uuid': '65bdbe1c-0cd4-468b-978e-c4a655cf5cfd', 'username': 'orangeswan830', 'password': 'inside', 'salt': 'bV1qzHRe', 'md5': 'c7a411d3e9b6c499137e29c09eb52946', 'sha1': 'de7cf6831545edc44a125cbb7bebf80df472d1ee', 'sha256': '564c2132a204ebb2ed7857bd0bee337bf6df7a919d0ed88c6525a9f0fc7d4614'}, 'dob': {'date': '1960-06-07T21:59:10Z', 'age': 58}, 'registered': {'date': '2012-12-07T21:31:25Z', 'age': 6}, 'phone': '(337)-937-9817', 'cell': '(682)-059-9022', 'id': {'name': 'SSN', 'value': '614-28-4872'}, 'picture': {'large': 'https://randomuser.me/api/portraits/women/40.jpg', 'medium': 'https://randomuser.me/api/portraits/med/women/40.jpg', 'thumbnail': 'https://randomuser.me/api/portraits/thumb/women/40.jpg'}, 'nat': 'US'}, {'gender': 'female', 'name': {'title': 'ms', 'first': 'meghan', 'last': 'holt'}, 'location': {'street': '8545 country club rd', 'city': 'costa mesa', 'state': 'south carolina', 'postcode': 69490, 'coordinates': {'latitude': '-61.6212', 'longitude': '88.3114'}, 'timezone': {'offset': '-9:00', 'description': 'Alaska'}}, 'email': 'meghan.holt@example.com', 'login': {'uuid': 'ad408ef0-4392-474e-bec3-6a6f2d23ca13', 'username': 'blackrabbit973', 'password': 'locks', 'salt': 'flJ1Xn2j', 'md5': '13a2b1e9660e76671ef951dee21ae09c', 'sha1': '4b59abd1215767ea06c2abdd425415329146a91e', 'sha256': 'a315cf64812de5f9e45b467d890ac0e5acdd54a2518196e4bcafcbc3c9f6533d'}, 'dob': {'date': '1971-04-14T04:49:37Z', 'age': 48}, 'registered': {'date': '2017-04-06T02:56:06Z', 'age': 2}, 'phone': '(171)-827-0214', 'cell': '(352)-894-7162', 'id': {'name': 'SSN', 'value': '637-62-2132'}, 'picture': {'large': 'https://randomuser.me/api/portraits/women/22.jpg', 'medium': 'https://randomuser.me/api/portraits/med/women/22.jpg', 'thumbnail': 'https://randomuser.me/api/portraits/thumb/women/22.jpg'}, 'nat': 'US'}, {'gender': 'female', 'name': {'title': 'miss', 'first': 'sarah', 'last': 'nichols'}, 'location': {'street': '7177 hickory creek dr', 'city': 'syracuse', 'state': 'nebraska', 'postcode': 75947, 'coordinates': {'latitude': '11.9879', 'longitude': '125.9886'}, 'timezone': {'offset': '+10:00', 'description': 'Eastern Australia, Guam, Vladivostok'}}, 'email': 'sarah.nichols@example.com', 'login': {'uuid': 'c3d282cf-8e32-4c1e-8c04-27694df7b2a3', 'username': 'bluebird436', 'password': 'fernando', 'salt': 'CLcDucDK', 'md5': '30f2b2c084c1ca18b0ab50a44a426e1b', 'sha1': 'b0bb80bec17b08780ca0e16a10d02f284c693034', 'sha256': 'ebb754d66c4f2ec18624e96a49a8ca51bd6287a8ad6488db8766fbd25a0f5b9d'}, 'dob': {'date': '1967-04-15T15:14:13Z', 'age': 52}, 'registered': {'date': '2006-06-07T00:28:14Z', 'age': 12}, 'phone': '(268)-883-1971', 'cell': '(167)-094-5807', 'id': {'name': 'SSN', 'value': '613-38-0025'}, 'picture': {'large': 'https://randomuser.me/api/portraits/women/69.jpg', 'medium': 'https://randomuser.me/api/portraits/med/women/69.jpg', 'thumbnail': 'https://randomuser.me/api/portraits/thumb/women/69.jpg'}, 'nat': 'US'}, {'gender': 'female', 'name': {'title': 'ms', 'first': 'heidi', 'last': 'watson'}, 'location': {'street': '1798 plum st', 'city': 'overland park', 'state': 'maryland', 'postcode': 84876, 'coordinates': {'latitude': '19.2826', 'longitude': '-47.4948'}, 'timezone': {'offset': '+4:00', 'description': 'Abu Dhabi, Muscat, Baku, Tbilisi'}}, 'email': 'heidi.watson@example.com', 'login': {'uuid': 'ba33263b-da5f-4b5e-8b79-075079530564', 'username': 'smallpanda364', 'password': 'oatmeal', 'salt': 'PLZgM6Zs', 'md5': '4231306e0ef71f88a2765e76e5187824', 'sha1': 'f7274365179d001326d729576a22c118b0a24134', 'sha256': '348754d51f4e04f1d0b41c631b8b8c0ce09f52435409fa5c0d6bf8c4e0d68541'}, 'dob': {'date': '1945-09-26T18:45:49Z', 'age': 73}, 'registered': {'date': '2006-08-24T14:25:29Z', 'age': 12}, 'phone': '(169)-304-1803', 'cell': '(932)-425-9665', 'id': {'name': 'SSN', 'value': '486-60-0215'}, 'picture': {'large': 'https://randomuser.me/api/portraits/women/38.jpg', 'medium': 'https://randomuser.me/api/portraits/med/women/38.jpg', 'thumbnail': 'https://randomuser.me/api/portraits/thumb/women/38.jpg'}, 'nat': 'US'}, {'gender': 'female', 'name': {'title': 'mrs', 'first': 'wanda', 'last': 'may'}, 'location': {'street': '348 saddle dr', 'city': 'burbank', 'state': 'montana', 'postcode': 96973, 'coordinates': {'latitude': '39.0127', 'longitude': '-95.1210'}, 'timezone': {'offset': '+5:30', 'description': 'Bombay, Calcutta, Madras, New Delhi'}}, 'email': 'wanda.may@example.com', 'login': {'uuid': 'accd52ec-21ac-40e7-9c0b-a255d014866f', 'username': 'happyostrich564', 'password': 'gabriela', 'salt': 'PrJ2sgVf', 'md5': 'b6cdbc227c9cd44163fbf32da3af2f22', 'sha1': '2275b486fe52b05b8a74fd31d91db9a27b92968e', 'sha256': 'e2cad5c0ec4c57db8c0c7bea2eec0ac66da7675ee7cbd2f7041651eb5971cc67'}, 'dob': {'date': '1964-03-13T05:44:38Z', 'age': 55}, 'registered': {'date': '2009-10-02T14:43:43Z', 'age': 9}, 'phone': '(353)-938-1309', 'cell': '(310)-082-2585', 'id': {'name': 'SSN', 'value': '671-57-4538'}, 'picture': {'large': 'https://randomuser.me/api/portraits/women/67.jpg', 'medium': 'https://randomuser.me/api/portraits/med/women/67.jpg', 'thumbnail': 'https://randomuser.me/api/portraits/thumb/women/67.jpg'}, 'nat': 'US'}], 'info': {'seed': '303c8de97eaf7560', 'results': 5, 'page': 1, 'version': '1.2'}}\n"
     ]
    }
   ],
   "source": [
    "print(data)"
   ]
  },
  {
   "cell_type": "markdown",
   "metadata": {},
   "source": [
    "* *pretty-print* (pprint) prints complex data structures like dictionary prettier.  https://docs.python.org/3/library/pprint.html "
   ]
  },
  {
   "cell_type": "code",
   "execution_count": 13,
   "metadata": {},
   "outputs": [
    {
     "name": "stdout",
     "output_type": "stream",
     "text": [
      "{'info': {'page': 1,\n",
      "          'results': 5,\n",
      "          'seed': '303c8de97eaf7560',\n",
      "          'version': '1.2'},\n",
      " 'results': [{'cell': '(682)-059-9022',\n",
      "              'dob': {'age': 58, 'date': '1960-06-07T21:59:10Z'},\n",
      "              'email': 'joann.howard@example.com',\n",
      "              'gender': 'female',\n",
      "              'id': {'name': 'SSN', 'value': '614-28-4872'},\n",
      "              'location': {'city': 'utica',\n",
      "                           'coordinates': {'latitude': '39.1119',\n",
      "                                           'longitude': '-10.5756'},\n",
      "                           'postcode': 79758,\n",
      "                           'state': 'connecticut',\n",
      "                           'street': '8133 ranchview dr',\n",
      "                           'timezone': {'description': 'Bombay, Calcutta, '\n",
      "                                                       'Madras, New Delhi',\n",
      "                                        'offset': '+5:30'}},\n",
      "              'login': {'md5': 'c7a411d3e9b6c499137e29c09eb52946',\n",
      "                        'password': 'inside',\n",
      "                        'salt': 'bV1qzHRe',\n",
      "                        'sha1': 'de7cf6831545edc44a125cbb7bebf80df472d1ee',\n",
      "                        'sha256': '564c2132a204ebb2ed7857bd0bee337bf6df7a919d0ed88c6525a9f0fc7d4614',\n",
      "                        'username': 'orangeswan830',\n",
      "                        'uuid': '65bdbe1c-0cd4-468b-978e-c4a655cf5cfd'},\n",
      "              'name': {'first': 'joann', 'last': 'howard', 'title': 'mrs'},\n",
      "              'nat': 'US',\n",
      "              'phone': '(337)-937-9817',\n",
      "              'picture': {'large': 'https://randomuser.me/api/portraits/women/40.jpg',\n",
      "                          'medium': 'https://randomuser.me/api/portraits/med/women/40.jpg',\n",
      "                          'thumbnail': 'https://randomuser.me/api/portraits/thumb/women/40.jpg'},\n",
      "              'registered': {'age': 6, 'date': '2012-12-07T21:31:25Z'}},\n",
      "             {'cell': '(352)-894-7162',\n",
      "              'dob': {'age': 48, 'date': '1971-04-14T04:49:37Z'},\n",
      "              'email': 'meghan.holt@example.com',\n",
      "              'gender': 'female',\n",
      "              'id': {'name': 'SSN', 'value': '637-62-2132'},\n",
      "              'location': {'city': 'costa mesa',\n",
      "                           'coordinates': {'latitude': '-61.6212',\n",
      "                                           'longitude': '88.3114'},\n",
      "                           'postcode': 69490,\n",
      "                           'state': 'south carolina',\n",
      "                           'street': '8545 country club rd',\n",
      "                           'timezone': {'description': 'Alaska',\n",
      "                                        'offset': '-9:00'}},\n",
      "              'login': {'md5': '13a2b1e9660e76671ef951dee21ae09c',\n",
      "                        'password': 'locks',\n",
      "                        'salt': 'flJ1Xn2j',\n",
      "                        'sha1': '4b59abd1215767ea06c2abdd425415329146a91e',\n",
      "                        'sha256': 'a315cf64812de5f9e45b467d890ac0e5acdd54a2518196e4bcafcbc3c9f6533d',\n",
      "                        'username': 'blackrabbit973',\n",
      "                        'uuid': 'ad408ef0-4392-474e-bec3-6a6f2d23ca13'},\n",
      "              'name': {'first': 'meghan', 'last': 'holt', 'title': 'ms'},\n",
      "              'nat': 'US',\n",
      "              'phone': '(171)-827-0214',\n",
      "              'picture': {'large': 'https://randomuser.me/api/portraits/women/22.jpg',\n",
      "                          'medium': 'https://randomuser.me/api/portraits/med/women/22.jpg',\n",
      "                          'thumbnail': 'https://randomuser.me/api/portraits/thumb/women/22.jpg'},\n",
      "              'registered': {'age': 2, 'date': '2017-04-06T02:56:06Z'}},\n",
      "             {'cell': '(167)-094-5807',\n",
      "              'dob': {'age': 52, 'date': '1967-04-15T15:14:13Z'},\n",
      "              'email': 'sarah.nichols@example.com',\n",
      "              'gender': 'female',\n",
      "              'id': {'name': 'SSN', 'value': '613-38-0025'},\n",
      "              'location': {'city': 'syracuse',\n",
      "                           'coordinates': {'latitude': '11.9879',\n",
      "                                           'longitude': '125.9886'},\n",
      "                           'postcode': 75947,\n",
      "                           'state': 'nebraska',\n",
      "                           'street': '7177 hickory creek dr',\n",
      "                           'timezone': {'description': 'Eastern Australia, '\n",
      "                                                       'Guam, Vladivostok',\n",
      "                                        'offset': '+10:00'}},\n",
      "              'login': {'md5': '30f2b2c084c1ca18b0ab50a44a426e1b',\n",
      "                        'password': 'fernando',\n",
      "                        'salt': 'CLcDucDK',\n",
      "                        'sha1': 'b0bb80bec17b08780ca0e16a10d02f284c693034',\n",
      "                        'sha256': 'ebb754d66c4f2ec18624e96a49a8ca51bd6287a8ad6488db8766fbd25a0f5b9d',\n",
      "                        'username': 'bluebird436',\n",
      "                        'uuid': 'c3d282cf-8e32-4c1e-8c04-27694df7b2a3'},\n",
      "              'name': {'first': 'sarah', 'last': 'nichols', 'title': 'miss'},\n",
      "              'nat': 'US',\n",
      "              'phone': '(268)-883-1971',\n",
      "              'picture': {'large': 'https://randomuser.me/api/portraits/women/69.jpg',\n",
      "                          'medium': 'https://randomuser.me/api/portraits/med/women/69.jpg',\n",
      "                          'thumbnail': 'https://randomuser.me/api/portraits/thumb/women/69.jpg'},\n",
      "              'registered': {'age': 12, 'date': '2006-06-07T00:28:14Z'}},\n",
      "             {'cell': '(932)-425-9665',\n",
      "              'dob': {'age': 73, 'date': '1945-09-26T18:45:49Z'},\n",
      "              'email': 'heidi.watson@example.com',\n",
      "              'gender': 'female',\n",
      "              'id': {'name': 'SSN', 'value': '486-60-0215'},\n",
      "              'location': {'city': 'overland park',\n",
      "                           'coordinates': {'latitude': '19.2826',\n",
      "                                           'longitude': '-47.4948'},\n",
      "                           'postcode': 84876,\n",
      "                           'state': 'maryland',\n",
      "                           'street': '1798 plum st',\n",
      "                           'timezone': {'description': 'Abu Dhabi, Muscat, '\n",
      "                                                       'Baku, Tbilisi',\n",
      "                                        'offset': '+4:00'}},\n",
      "              'login': {'md5': '4231306e0ef71f88a2765e76e5187824',\n",
      "                        'password': 'oatmeal',\n",
      "                        'salt': 'PLZgM6Zs',\n",
      "                        'sha1': 'f7274365179d001326d729576a22c118b0a24134',\n",
      "                        'sha256': '348754d51f4e04f1d0b41c631b8b8c0ce09f52435409fa5c0d6bf8c4e0d68541',\n",
      "                        'username': 'smallpanda364',\n",
      "                        'uuid': 'ba33263b-da5f-4b5e-8b79-075079530564'},\n",
      "              'name': {'first': 'heidi', 'last': 'watson', 'title': 'ms'},\n",
      "              'nat': 'US',\n",
      "              'phone': '(169)-304-1803',\n",
      "              'picture': {'large': 'https://randomuser.me/api/portraits/women/38.jpg',\n",
      "                          'medium': 'https://randomuser.me/api/portraits/med/women/38.jpg',\n",
      "                          'thumbnail': 'https://randomuser.me/api/portraits/thumb/women/38.jpg'},\n",
      "              'registered': {'age': 12, 'date': '2006-08-24T14:25:29Z'}},\n",
      "             {'cell': '(310)-082-2585',\n",
      "              'dob': {'age': 55, 'date': '1964-03-13T05:44:38Z'},\n",
      "              'email': 'wanda.may@example.com',\n",
      "              'gender': 'female',\n",
      "              'id': {'name': 'SSN', 'value': '671-57-4538'},\n",
      "              'location': {'city': 'burbank',\n",
      "                           'coordinates': {'latitude': '39.0127',\n",
      "                                           'longitude': '-95.1210'},\n",
      "                           'postcode': 96973,\n",
      "                           'state': 'montana',\n",
      "                           'street': '348 saddle dr',\n",
      "                           'timezone': {'description': 'Bombay, Calcutta, '\n",
      "                                                       'Madras, New Delhi',\n",
      "                                        'offset': '+5:30'}},\n",
      "              'login': {'md5': 'b6cdbc227c9cd44163fbf32da3af2f22',\n",
      "                        'password': 'gabriela',\n",
      "                        'salt': 'PrJ2sgVf',\n",
      "                        'sha1': '2275b486fe52b05b8a74fd31d91db9a27b92968e',\n",
      "                        'sha256': 'e2cad5c0ec4c57db8c0c7bea2eec0ac66da7675ee7cbd2f7041651eb5971cc67',\n",
      "                        'username': 'happyostrich564',\n",
      "                        'uuid': 'accd52ec-21ac-40e7-9c0b-a255d014866f'},\n",
      "              'name': {'first': 'wanda', 'last': 'may', 'title': 'mrs'},\n",
      "              'nat': 'US',\n",
      "              'phone': '(353)-938-1309',\n",
      "              'picture': {'large': 'https://randomuser.me/api/portraits/women/67.jpg',\n",
      "                          'medium': 'https://randomuser.me/api/portraits/med/women/67.jpg',\n",
      "                          'thumbnail': 'https://randomuser.me/api/portraits/thumb/women/67.jpg'},\n",
      "              'registered': {'age': 9, 'date': '2009-10-02T14:43:43Z'}}]}\n"
     ]
    }
   ],
   "source": [
    "from pprint import pprint\n",
    "pprint(data)"
   ]
  },
  {
   "cell_type": "markdown",
   "metadata": {},
   "source": [
    "* Loop through the dictionary and print all first names"
   ]
  },
  {
   "cell_type": "code",
   "execution_count": 14,
   "metadata": {},
   "outputs": [
    {
     "name": "stdout",
     "output_type": "stream",
     "text": [
      "joann\n",
      "meghan\n",
      "sarah\n",
      "heidi\n",
      "wanda\n"
     ]
    }
   ],
   "source": [
    "# TODO\n",
    "res = data['results']\n",
    "for i in range(len(res)):\n",
    "    print(res[i]['name']['first'])"
   ]
  },
  {
   "cell_type": "markdown",
   "metadata": {},
   "source": [
    "* Get all astronauts who are right now in space. You get the information about the Web APU from here  http://open-notify.org/Open-Notify-API/People-In-Space/ "
   ]
  },
  {
   "cell_type": "code",
   "execution_count": 54,
   "metadata": {},
   "outputs": [
    {
     "data": {
      "text/plain": [
       "{'message': 'success',\n",
       " 'number': 6,\n",
       " 'people': [{'craft': 'ISS', 'name': 'Oleg Kononenko'},\n",
       "  {'craft': 'ISS', 'name': 'David Saint-Jacques'},\n",
       "  {'craft': 'ISS', 'name': 'Anne McClain'},\n",
       "  {'craft': 'ISS', 'name': 'Alexey Ovchinin'},\n",
       "  {'craft': 'ISS', 'name': 'Nick Hague'},\n",
       "  {'craft': 'ISS', 'name': 'Christina Koch'}]}"
      ]
     },
     "execution_count": 54,
     "metadata": {},
     "output_type": "execute_result"
    }
   ],
   "source": [
    "# TODO\n",
    "space_url = requests.get('http://api.open-notify.org/astros.json')\n",
    "space_data = json.loads(space_url.text)\n",
    "space_data"
   ]
  },
  {
   "cell_type": "markdown",
   "metadata": {},
   "source": [
    "* Print the number of people that are right now in space"
   ]
  },
  {
   "cell_type": "code",
   "execution_count": 52,
   "metadata": {},
   "outputs": [
    {
     "data": {
      "text/plain": [
       "6"
      ]
     },
     "execution_count": 52,
     "metadata": {},
     "output_type": "execute_result"
    }
   ],
   "source": [
    "# TODO\n",
    "space_data['number']"
   ]
  },
  {
   "cell_type": "markdown",
   "metadata": {},
   "source": [
    "* Print the names of all astronauts "
   ]
  },
  {
   "cell_type": "code",
   "execution_count": 61,
   "metadata": {},
   "outputs": [
    {
     "name": "stdout",
     "output_type": "stream",
     "text": [
      "Oleg Kononenko\n",
      "David Saint-Jacques\n",
      "Anne McClain\n",
      "Alexey Ovchinin\n",
      "Nick Hague\n",
      "Christina Koch\n"
     ]
    }
   ],
   "source": [
    "# TODO\n",
    "for i in range(space_data['number']):\n",
    "    print(space_data['people'][i]['name'])"
   ]
  },
  {
   "cell_type": "markdown",
   "metadata": {},
   "source": [
    "* A lot of Web APIs require a api-key for interacting with them (like Twitter, Facebook, …). You find at http://www.python-requests.org/en/latest/user/authentication/ more information for Authentication for Web APIs with the request package\n",
    "* There are also special Python packages for interacting with services. E.g. for Twitter: http://www.tweepy.org/ or  https://github.com/bear/python-twitter \n",
    "\n",
    "See e.g. http://socialmedia-class.org/twittertutorial.html for a tutorial"
   ]
  },
  {
   "cell_type": "markdown",
   "metadata": {},
   "source": [
    "## 2. Creating a Web API\n",
    "\n",
    "* Create a folder `webapi` and change into it.\n",
    "* Create in the `webapi` folder a file with the name `Dockerfile` with the following content:\n",
    "\n",
    "----\n",
    "```bash\n",
    "# Use an official Python runtime as a parent image\n",
    "FROM python:3.7-slim\n",
    "\n",
    "# Set the working directory to /app\n",
    "WORKDIR /app\n",
    "\n",
    "# Copy the current directory contents into the container at /app\n",
    "COPY app/ /app\n",
    "\n",
    "# Install any needed packages specified in requirements.txt\n",
    "RUN pip install --trusted-host pypi.python.org -r requirements.txt\n",
    "\n",
    "# Make port 80 available to the world outside this container\n",
    "EXPOSE 80\n",
    "\n",
    "# Run app.py when the container launches\n",
    "CMD [\"python\", \"app.py\"]\n",
    "```\n",
    "\n",
    "-----\n",
    "\n",
    "* We can also use Docker compose with just one service. Create in your `webapi` folder a `docker-compose.yml` file:\n",
    "\n",
    "-----\n",
    "\n",
    "```yaml\n",
    "version: '3'\n",
    "services:\n",
    "  api:\n",
    "    build: .\n",
    "    ports:\n",
    "      - \"5000:80\"\n",
    "    restart: always\n",
    "    volumes:\n",
    "      - ./app:/app\n",
    "```\n",
    "-----\n",
    "\n",
    "* Create a folder in the `webapi` folder a new folder with the name `app`\n",
    "* We will build a web API with `Flask` (http://flask.pocoo.org/) . Create a `requirements.txt` file in the `app` folder. Here we can specify all python `pip` packages that we need:\n",
    "\n",
    "-----\n",
    "```bash\n",
    "Flask\n",
    "```\n",
    "-----\n",
    "\n",
    "* Create the `app.py` file in the `app` folder:\n",
    "\n",
    "-----\n",
    "```python\n",
    "from flask import Flask\n",
    "from flask import request, jsonify\n",
    "\n",
    "app = Flask(__name__)\n",
    "\n",
    "courses = [\n",
    "    {'id': 0,\n",
    "     'title': 'Data Science',\n",
    "     'professor': 'Markus Löcher',\n",
    "     'semester': '1'},\n",
    "    {'id': 1,\n",
    "     'title': 'Data Warehousing',\n",
    "     'professor': 'Roland M. Mueller',\n",
    "     'semester': '1'},\n",
    "    {'id': 2,\n",
    "     'title': 'Business Process Management',\n",
    "     'professor': 'Frank Habermann',\n",
    "     'semester': '1'},\n",
    "    {'id': 3,\n",
    "     'title': 'Stratigic Issues of IT',\n",
    "     'professor': 'Sven Pohland',\n",
    "     'semester': '1'},\n",
    "    {'id': 4,\n",
    "     'title': 'Text, Web and Social Media Analytics Lab',\n",
    "     'professor': 'Markus Löcher',\n",
    "     'semester': '2'},\n",
    "    {'id': 5,\n",
    "     'title': 'Enterprise Architectures for Big Data',\n",
    "     'professor': 'Roland M. Mueller',\n",
    "     'semester': '2'},\n",
    "    {'id': 6,\n",
    "     'title': 'Business Process Integration Lab',\n",
    "     'professor': 'Frank Habermann',\n",
    "     'semester': '2'},\n",
    "    {'id': 7,\n",
    "     'title': 'IT-Security and Privacy',\n",
    "     'professor': 'Dennis Uckel',\n",
    "     'semester': '2'},\n",
    "    {'id': 8,\n",
    "     'title': 'Research Methods',\n",
    "     'professor': 'Marcus Birkenkrahe',\n",
    "     'semester': '2'},\n",
    "]\n",
    "\n",
    "@app.route('/api/v1/courses/all', methods=['GET'])\n",
    "def api_all():\n",
    "    return jsonify(courses)\n",
    "\n",
    "@app.route('/api/v1/courses', methods=['GET'])\n",
    "def api_id():\n",
    "    # Check if an ID was provided as part of the URL.\n",
    "    # If ID is provided, assign it to a variable.\n",
    "    # If no ID is provided, display an error in the browser.\n",
    "    if 'id' in request.args:\n",
    "        id = int(request.args['id'])\n",
    "    else:\n",
    "        return \"Error: No id field provided. Please specify an id.\"\n",
    "\n",
    "    # Create an empty list for our results\n",
    "    results = []\n",
    "\n",
    "    # Loop through the data and match results that fit the requested ID.\n",
    "    # IDs are unique, but other fields might return many results\n",
    "    for course in courses:\n",
    "        if course['id'] == id:\n",
    "            results.append(course)\n",
    "\n",
    "    # Use the jsonify function from Flask to convert our list of\n",
    "    # Python dictionaries to the JSON format.\n",
    "    return jsonify(results)\n",
    "\n",
    "if __name__ == \"__main__\":\n",
    "    app.run(host=\"0.0.0.0\", port=80, debug=True)\n",
    "```\n",
    "-----\n",
    "* Open http://localhost:5000/api/v1/courses/all in a browser\n",
    "* Open http://localhost:5000/api/v1/courses?id=5 in a browser\n"
   ]
  },
  {
   "cell_type": "markdown",
   "metadata": {
    "collapsed": true
   },
   "source": [
    "* Use your own API here in the Jupyter Notebook with Python and print all names of all courses "
   ]
  },
  {
   "cell_type": "code",
   "execution_count": 36,
   "metadata": {},
   "outputs": [
    {
     "name": "stdout",
     "output_type": "stream",
     "text": [
      "Data Science\n",
      "Data Warehousing\n",
      "Business Process Management\n",
      "Stratigic Issues of IT\n",
      "Text, Web and Social Media Analytics Lab\n",
      "Enterprise Architectures for Big Data\n",
      "Business Process Integration Lab\n",
      "IT-Security and Privacy\n",
      "Research Methods\n"
     ]
    }
   ],
   "source": [
    "# TODO\n",
    "url_r = requests.get('http://localhost:5000/api/v1/courses/all')\n",
    "r = json.loads(url_r.text)\n",
    "\n",
    "for i in range(len(r)):\n",
    "    print(r[i]['title'])"
   ]
  },
  {
   "cell_type": "markdown",
   "metadata": {},
   "source": [
    "* Add the possibility to find courses based on the semester\n",
    "* Use your API in Python and print all names of all courses in the second semester"
   ]
  },
  {
   "cell_type": "code",
   "execution_count": 37,
   "metadata": {},
   "outputs": [
    {
     "name": "stdout",
     "output_type": "stream",
     "text": [
      "Text, Web and Social Media Analytics Lab\n",
      "Enterprise Architectures for Big Data\n",
      "Business Process Integration Lab\n",
      "IT-Security and Privacy\n",
      "Research Methods\n"
     ]
    }
   ],
   "source": [
    "# TODO\n",
    "url_r_sem = requests.get('http://localhost:5000/api/v1/courses/semester?semester=2')\n",
    "r = json.loads(url_r_sem.text)\n",
    "\n",
    "for i in range(len(r)):\n",
    "    print(r[i]['title'])"
   ]
  },
  {
   "cell_type": "markdown",
   "metadata": {},
   "source": [
    "* Add a function that can convert Fahrenheit to Celsius \n",
    "* Call your API and get the Celsius value for 100°F Fahrenheit"
   ]
  },
  {
   "cell_type": "code",
   "execution_count": 39,
   "metadata": {},
   "outputs": [
    {
     "data": {
      "text/plain": [
       "'100 degrees in Fahrenheit is/are 37.77777777777778 degrees in Celcius'"
      ]
     },
     "execution_count": 39,
     "metadata": {},
     "output_type": "execute_result"
    }
   ],
   "source": [
    "# TODO\n",
    "requests.get('http://localhost:5000/api/v1/converter?degrees=100').text"
   ]
  }
 ],
 "metadata": {
  "kernelspec": {
   "display_name": "Python 3",
   "language": "python",
   "name": "python3"
  },
  "language_info": {
   "codemirror_mode": {
    "name": "ipython",
    "version": 3
   },
   "file_extension": ".py",
   "mimetype": "text/x-python",
   "name": "python",
   "nbconvert_exporter": "python",
   "pygments_lexer": "ipython3",
   "version": "3.6.4"
  },
  "varInspector": {
   "cols": {
    "lenName": 16,
    "lenType": 16,
    "lenVar": 40
   },
   "kernels_config": {
    "python": {
     "delete_cmd_postfix": "",
     "delete_cmd_prefix": "del ",
     "library": "var_list.py",
     "varRefreshCmd": "print(var_dic_list())"
    },
    "r": {
     "delete_cmd_postfix": ") ",
     "delete_cmd_prefix": "rm(",
     "library": "var_list.r",
     "varRefreshCmd": "cat(var_dic_list()) "
    }
   },
   "types_to_exclude": [
    "module",
    "function",
    "builtin_function_or_method",
    "instance",
    "_Feature"
   ],
   "window_display": false
  }
 },
 "nbformat": 4,
 "nbformat_minor": 2
}
