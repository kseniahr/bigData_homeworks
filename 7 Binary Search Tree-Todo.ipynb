{
 "cells": [
  {
   "cell_type": "markdown",
   "metadata": {},
   "source": [
    "Animation: https://www.cs.usfca.edu/~galles/visualization/BST.html"
   ]
  },
  {
   "cell_type": "code",
   "execution_count": 21,
   "metadata": {},
   "outputs": [],
   "source": [
    "class Node:\n",
    "    \"\"\"\n",
    "    Tree node with left and right child and data\n",
    "    \"\"\"\n",
    "    def __init__(self, value):\n",
    "        self.value = value\n",
    "        self.parent = None\n",
    "        self.leftChild = None\n",
    "        self.rightChild = None\n",
    "        \n",
    "    def hasLeftChild(self):\n",
    "        return self.leftChild\n",
    "\n",
    "    def hasRightChild(self):\n",
    "        return self.rightChild\n",
    "\n",
    "    def isLeftChild(self):\n",
    "        return self.parent and self.parent.leftChild == self\n",
    "\n",
    "    def isRightChild(self):\n",
    "        return self.parent and self.parent.rightChild == self\n",
    "\n",
    "    def isRoot(self):\n",
    "        return not self.parent\n",
    "\n",
    "    def isLeaf(self):\n",
    "        return not (self.rightChild or self.leftChild)"
   ]
  },
  {
   "cell_type": "code",
   "execution_count": 22,
   "metadata": {},
   "outputs": [],
   "source": [
    "class Tree:\n",
    "    def __init__(self):\n",
    "        \"\"\"Create an empty binary search tree\"\"\"\n",
    "        self.root = None\n",
    "    \n",
    "    def insert(self, val):\n",
    "        if self.root:\n",
    "            self._insert(val, self.root)\n",
    "        else:\n",
    "            self.root = Node(val)\n",
    "            \n",
    "    def _insert(self, val, currentNode):\n",
    "        if val < currentNode.value:\n",
    "            if currentNode.hasLeftChild():\n",
    "                self._insert(val, currentNode.leftChild)\n",
    "            else:\n",
    "                currentNode.leftChild = Node(val)\n",
    "                currentNode.leftChild.parent = currentNode\n",
    "        else:\n",
    "            if currentNode.hasRightChild():\n",
    "                self._insert(val,currentNode.rightChild)\n",
    "            else:\n",
    "                currentNode.rightChild = Node(val)\n",
    "                currentNode.rightChild.parent = currentNode\n",
    "                \n",
    "    def find(self, value):\n",
    "        \"\"\"Returns true if item is in the tree or false otherwise\"\"\"\n",
    "        if self.root:\n",
    "            return self._find(value, self.root)\n",
    "        else:\n",
    "            return False\n",
    "        \n",
    "    def _find(self,value,currentNode):\n",
    "        if not currentNode:\n",
    "            return False\n",
    "        elif currentNode.value == value:\n",
    "            return True\n",
    "        elif value < currentNode.value:\n",
    "            return self._find(value, currentNode.leftChild)\n",
    "        else:\n",
    "            return self._find(value, currentNode.rightChild)\n",
    "    \n",
    "        \n",
    "\n",
    "    "
   ]
  },
  {
   "cell_type": "code",
   "execution_count": 23,
   "metadata": {},
   "outputs": [],
   "source": [
    "tree = Tree()"
   ]
  },
  {
   "cell_type": "code",
   "execution_count": 24,
   "metadata": {},
   "outputs": [],
   "source": [
    "tree.insert(30)\n",
    "tree.insert(5)\n",
    "tree.insert(50)\n",
    "tree.insert(8)\n",
    "tree.insert(3)\n",
    "tree.insert(100)\n",
    "tree.insert(40)"
   ]
  },
  {
   "cell_type": "code",
   "execution_count": 25,
   "metadata": {},
   "outputs": [
    {
     "data": {
      "text/plain": [
       "True"
      ]
     },
     "execution_count": 25,
     "metadata": {},
     "output_type": "execute_result"
    }
   ],
   "source": [
    "tree.find(8)"
   ]
  },
  {
   "cell_type": "code",
   "execution_count": 26,
   "metadata": {},
   "outputs": [
    {
     "data": {
      "text/plain": [
       "False"
      ]
     },
     "execution_count": 26,
     "metadata": {},
     "output_type": "execute_result"
    }
   ],
   "source": [
    "tree.find(9)"
   ]
  },
  {
   "cell_type": "markdown",
   "metadata": {},
   "source": [
    "## Why is the worst case time complexity of the find method only $O(n)$ and not $O(log n)$?"
   ]
  },
  {
   "cell_type": "markdown",
   "metadata": {
    "collapsed": true
   },
   "source": [
    "Because the binary search tree is sorted and we only ever search linearly through it."
   ]
  }
 ],
 "metadata": {
  "kernelspec": {
   "display_name": "Python 3",
   "language": "python",
   "name": "python3"
  },
  "language_info": {
   "codemirror_mode": {
    "name": "ipython",
    "version": 3
   },
   "file_extension": ".py",
   "mimetype": "text/x-python",
   "name": "python",
   "nbconvert_exporter": "python",
   "pygments_lexer": "ipython3",
   "version": "3.6.5"
  },
  "varInspector": {
   "cols": {
    "lenName": 16,
    "lenType": 16,
    "lenVar": 40
   },
   "kernels_config": {
    "python": {
     "delete_cmd_postfix": "",
     "delete_cmd_prefix": "del ",
     "library": "var_list.py",
     "varRefreshCmd": "print(var_dic_list())"
    },
    "r": {
     "delete_cmd_postfix": ") ",
     "delete_cmd_prefix": "rm(",
     "library": "var_list.r",
     "varRefreshCmd": "cat(var_dic_list()) "
    }
   },
   "types_to_exclude": [
    "module",
    "function",
    "builtin_function_or_method",
    "instance",
    "_Feature"
   ],
   "window_display": false
  }
 },
 "nbformat": 4,
 "nbformat_minor": 2
}
