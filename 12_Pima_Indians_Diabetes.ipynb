{
 "cells": [
  {
   "cell_type": "markdown",
   "metadata": {},
   "source": [
    "# Data \n",
    "\n",
    "The Pima Indians dataset is about the prediction of diabetes . This is a small dataset available from the UCI Machine Learning Repository. https://archive.ics.uci.edu/ml/datasets/Pima+Indians+Diabetes\n",
    "\n",
    "**Attribute Information:**\n",
    "\n",
    "1. Number of times pregnant\n",
    "2. Plasma glucose concentration a 2 hours in an oral glucose tolerance test\n",
    "3. Diastolic blood pressure (mm Hg)\n",
    "4. Triceps skin fold thickness (mm)\n",
    "5. 2-Hour serum insulin (mu U/ml)\n",
    "6. Body mass index (weight in kg/(height in m)^2)\n",
    "7. Diabetes pedigree function\n",
    "8. Age (years)\n",
    "9. Class variable (0 or 1) (diabetes mellitus)"
   ]
  },
  {
   "cell_type": "code",
   "execution_count": 1,
   "metadata": {},
   "outputs": [
    {
     "name": "stdout",
     "output_type": "stream",
     "text": [
      "--2019-06-07 10:29:25--  https://gist.githubusercontent.com/ktisha/c21e73a1bd1700294ef790c56c8aec1f/raw/819b69b5736821ccee93d05b51de0510bea00294/pima-indians-diabetes.csv\n",
      "Resolving gist.githubusercontent.com (gist.githubusercontent.com)... 151.101.112.133\n",
      "Connecting to gist.githubusercontent.com (gist.githubusercontent.com)|151.101.112.133|:443... connected.\n",
      "HTTP request sent, awaiting response... 200 OK\n",
      "Length: 23628 (23K) [text/plain]\n",
      "Saving to: <<pima-indians-diabetes.csv>>\n",
      "\n",
      "pima-indians-diabet 100%[===================>]  23.07K  --.-KB/s    in 0.02s   \n",
      "\n",
      "2019-06-07 10:29:25 (1.50 MB/s) - <<pima-indians-diabetes.csv>> saved [23628/23628]\n",
      "\n"
     ]
    }
   ],
   "source": [
    "# Download the data\n",
    "! wget -O pima-indians-diabetes.csv https://gist.githubusercontent.com/ktisha/c21e73a1bd1700294ef790c56c8aec1f/raw/819b69b5736821ccee93d05b51de0510bea00294/pima-indians-diabetes.csv"
   ]
  },
  {
   "cell_type": "code",
   "execution_count": 2,
   "metadata": {},
   "outputs": [
    {
     "name": "stdout",
     "output_type": "stream",
     "text": [
      "total 696\r\n",
      "-rw-r--r--@ 1 oksanahrytsiv  staff     251 May  4 18:44 10 MongoDB-Todo.ipynb\r\n",
      "-rw-r--r--  1 oksanahrytsiv  staff  123780 Jun  7 10:27 12_Pima_Indians_Diabetes.ipynb\r\n",
      "-rw-r--r--  1 oksanahrytsiv  staff    8234 Apr  9 07:56 2 Finding values in collections Todo.ipynb\r\n",
      "-rw-r--r--  1 oksanahrytsiv  staff   65819 Apr 23 07:25 3 Time Complexity.ipynb\r\n",
      "-rw-r--r--  1 oksanahrytsiv  staff   14955 Apr 23 07:25 4 Decision Trees Todo.ipynb\r\n",
      "-rw-r--r--  1 oksanahrytsiv  staff    8628 Apr 27 21:10 6 Linked-List-Todo DONE.ipynb\r\n",
      "-rw-r--r--  1 oksanahrytsiv  staff    5545 Apr 27 21:10 7 Binary Search Tree-Todo.ipynb\r\n",
      "-rw-rw-rw-@ 1 oksanahrytsiv  staff   42002 Apr 27 21:08 9 Web API.ipynb\r\n",
      "-rw-r--r--  1 oksanahrytsiv  staff   30432 Jun  7 09:22 my_cool_model.h5\r\n",
      "-rw-r--r--  1 oksanahrytsiv  staff   23628 Jun  7 10:29 pima-indians-diabetes.csv\r\n"
     ]
    }
   ],
   "source": [
    "# check if the data is downloaded\n",
    "%ls -l"
   ]
  },
  {
   "cell_type": "code",
   "execution_count": 3,
   "metadata": {},
   "outputs": [
    {
     "name": "stderr",
     "output_type": "stream",
     "text": [
      "Using TensorFlow backend.\n"
     ]
    }
   ],
   "source": [
    "from sklearn.model_selection import train_test_split\n",
    "from keras.models import Sequential\n",
    "from keras.layers import Dense\n",
    "import matplotlib.pyplot as plt\n",
    "from matplotlib.ticker import MaxNLocator\n",
    "import numpy as np"
   ]
  },
  {
   "cell_type": "code",
   "execution_count": 4,
   "metadata": {},
   "outputs": [],
   "source": [
    "# fix random seed for reproducibility\n",
    "seed = 7\n",
    "np.random.seed(seed)"
   ]
  },
  {
   "cell_type": "code",
   "execution_count": 5,
   "metadata": {},
   "outputs": [],
   "source": [
    "# load pima indians dataset\n",
    "dataset = np.loadtxt(\"pima-indians-diabetes.csv\", delimiter=\",\")"
   ]
  },
  {
   "cell_type": "code",
   "execution_count": 6,
   "metadata": {},
   "outputs": [],
   "source": [
    "# split dataset into input (X) and output (Y) variables\n",
    "# output is the last column\n",
    "X = dataset[:,:-1]\n",
    "y = dataset[:,-1]"
   ]
  },
  {
   "cell_type": "code",
   "execution_count": 7,
   "metadata": {},
   "outputs": [
    {
     "data": {
      "text/plain": [
       "(768, 8)"
      ]
     },
     "execution_count": 7,
     "metadata": {},
     "output_type": "execute_result"
    }
   ],
   "source": [
    "# print the shape of x\n",
    "#\n",
    "X.shape"
   ]
  },
  {
   "cell_type": "code",
   "execution_count": 8,
   "metadata": {},
   "outputs": [
    {
     "data": {
      "text/plain": [
       "8"
      ]
     },
     "execution_count": 8,
     "metadata": {},
     "output_type": "execute_result"
    }
   ],
   "source": [
    "# save to number of input dimensions in input_dim\n",
    "input_dim = X.shape[1]\n",
    "input_dim"
   ]
  },
  {
   "cell_type": "code",
   "execution_count": 9,
   "metadata": {},
   "outputs": [
    {
     "data": {
      "text/plain": [
       "(768,)"
      ]
     },
     "execution_count": 9,
     "metadata": {},
     "output_type": "execute_result"
    }
   ],
   "source": [
    "# shape of y\n",
    "y.shape"
   ]
  },
  {
   "cell_type": "code",
   "execution_count": 10,
   "metadata": {},
   "outputs": [],
   "source": [
    "# Create training and test sets\n",
    "# Test size should be 15%\n",
    "# The test and train set should be stratified\n",
    "# use a random state (for reproducability) of 42\n",
    "# TODO\n",
    "X_train, X_test, y_train, y_test = train_test_split(X, y, test_size = 0.15, random_state = 42, stratify = y)"
   ]
  },
  {
   "cell_type": "code",
   "execution_count": 11,
   "metadata": {},
   "outputs": [
    {
     "data": {
      "text/plain": [
       "(116, 8)"
      ]
     },
     "execution_count": 11,
     "metadata": {},
     "output_type": "execute_result"
    }
   ],
   "source": [
    "# shape of X_test\n",
    "# TODO\n",
    "X_test.shape"
   ]
  },
  {
   "cell_type": "markdown",
   "metadata": {},
   "source": [
    "# Model"
   ]
  },
  {
   "cell_type": "code",
   "execution_count": 12,
   "metadata": {},
   "outputs": [
    {
     "name": "stdout",
     "output_type": "stream",
     "text": [
      "WARNING:tensorflow:From /usr/local/lib/python3.7/site-packages/tensorflow/python/framework/op_def_library.py:263: colocate_with (from tensorflow.python.framework.ops) is deprecated and will be removed in a future version.\n",
      "Instructions for updating:\n",
      "Colocations handled automatically by placer.\n"
     ]
    }
   ],
   "source": [
    "# 1. Create Sequential model\n",
    "# 2. + 3. Add two hidden dense layers with 12 and 8 nodes. Both should have Relu activations \n",
    "# 4. Add a final output layer\n",
    "# Think about how many nodes the final output layer should have and what activation function is appropiate\n",
    "# TODO\n",
    "model = Sequential()\n",
    "model.add(Dense(12, activation = 'relu', input_dim=input_dim))\n",
    "model.add(Dense(8, activation = 'relu'))\n",
    "model.add(Dense(1, activation = 'sigmoid'))"
   ]
  },
  {
   "cell_type": "code",
   "execution_count": 13,
   "metadata": {},
   "outputs": [],
   "source": [
    "# Compile the model\n",
    "# Think about what loss function is appropiate\n",
    "# Use as the optimizer Adam\n",
    "# Track as an additional metric Accuracy\n",
    "# TODO\n",
    "model.compile(optimizer = 'adam', loss = 'binary_crossentropy', metrics = ['accuracy'])"
   ]
  },
  {
   "cell_type": "code",
   "execution_count": 14,
   "metadata": {},
   "outputs": [
    {
     "name": "stdout",
     "output_type": "stream",
     "text": [
      "WARNING:tensorflow:From /usr/local/lib/python3.7/site-packages/tensorflow/python/ops/math_ops.py:3066: to_int32 (from tensorflow.python.ops.math_ops) is deprecated and will be removed in a future version.\n",
      "Instructions for updating:\n",
      "Use tf.cast instead.\n",
      "Train on 554 samples, validate on 98 samples\n",
      "Epoch 1/300\n",
      "554/554 [==============================] - 1s 922us/step - loss: 4.5517 - acc: 0.6173 - val_loss: 2.7382 - val_acc: 0.6327\n",
      "Epoch 2/300\n",
      "554/554 [==============================] - 0s 238us/step - loss: 1.5336 - acc: 0.5668 - val_loss: 1.0885 - val_acc: 0.6224\n",
      "Epoch 3/300\n",
      "554/554 [==============================] - 0s 233us/step - loss: 0.8457 - acc: 0.6101 - val_loss: 0.8434 - val_acc: 0.6735\n",
      "Epoch 4/300\n",
      "554/554 [==============================] - 0s 210us/step - loss: 0.7546 - acc: 0.6318 - val_loss: 0.7363 - val_acc: 0.6939\n",
      "Epoch 5/300\n",
      "554/554 [==============================] - 0s 223us/step - loss: 0.7025 - acc: 0.6697 - val_loss: 0.7408 - val_acc: 0.6633\n",
      "Epoch 6/300\n",
      "554/554 [==============================] - 0s 204us/step - loss: 0.7136 - acc: 0.6588 - val_loss: 0.6882 - val_acc: 0.6837\n",
      "Epoch 7/300\n",
      "554/554 [==============================] - 0s 195us/step - loss: 0.6851 - acc: 0.6715 - val_loss: 0.6872 - val_acc: 0.7143\n",
      "Epoch 8/300\n",
      "554/554 [==============================] - 0s 176us/step - loss: 0.6743 - acc: 0.6787 - val_loss: 0.6667 - val_acc: 0.7041\n",
      "Epoch 9/300\n",
      "554/554 [==============================] - 0s 185us/step - loss: 0.6730 - acc: 0.6715 - val_loss: 0.7091 - val_acc: 0.7245\n",
      "Epoch 10/300\n",
      "554/554 [==============================] - 0s 213us/step - loss: 0.6446 - acc: 0.6986 - val_loss: 0.7128 - val_acc: 0.6633\n",
      "Epoch 11/300\n",
      "554/554 [==============================] - 0s 206us/step - loss: 0.6472 - acc: 0.6859 - val_loss: 0.7043 - val_acc: 0.6122\n",
      "Epoch 12/300\n",
      "554/554 [==============================] - 0s 212us/step - loss: 0.6275 - acc: 0.6859 - val_loss: 0.6706 - val_acc: 0.7041\n",
      "Epoch 13/300\n",
      "554/554 [==============================] - 0s 227us/step - loss: 0.6168 - acc: 0.6949 - val_loss: 0.6948 - val_acc: 0.6224\n",
      "Epoch 14/300\n",
      "554/554 [==============================] - 0s 264us/step - loss: 0.6286 - acc: 0.6751 - val_loss: 0.6746 - val_acc: 0.7143\n",
      "Epoch 15/300\n",
      "554/554 [==============================] - 0s 242us/step - loss: 0.6040 - acc: 0.7076 - val_loss: 0.6563 - val_acc: 0.7143\n",
      "Epoch 16/300\n",
      "554/554 [==============================] - 0s 309us/step - loss: 0.6015 - acc: 0.7094 - val_loss: 0.7734 - val_acc: 0.5918\n",
      "Epoch 17/300\n",
      "554/554 [==============================] - 0s 338us/step - loss: 0.6267 - acc: 0.6498 - val_loss: 0.6463 - val_acc: 0.6939\n",
      "Epoch 18/300\n",
      "554/554 [==============================] - 0s 190us/step - loss: 0.5918 - acc: 0.6986 - val_loss: 0.6737 - val_acc: 0.6122\n",
      "Epoch 19/300\n",
      "554/554 [==============================] - 0s 219us/step - loss: 0.5993 - acc: 0.6805 - val_loss: 0.6619 - val_acc: 0.6122\n",
      "Epoch 20/300\n",
      "554/554 [==============================] - 0s 200us/step - loss: 0.6003 - acc: 0.6877 - val_loss: 0.6540 - val_acc: 0.7245\n",
      "Epoch 21/300\n",
      "554/554 [==============================] - 0s 217us/step - loss: 0.5837 - acc: 0.6913 - val_loss: 0.6398 - val_acc: 0.7143\n",
      "Epoch 22/300\n",
      "554/554 [==============================] - 0s 202us/step - loss: 0.5982 - acc: 0.6986 - val_loss: 0.7550 - val_acc: 0.6122\n",
      "Epoch 23/300\n",
      "554/554 [==============================] - 0s 186us/step - loss: 0.5726 - acc: 0.6968 - val_loss: 0.6333 - val_acc: 0.7245\n",
      "Epoch 24/300\n",
      "554/554 [==============================] - 0s 186us/step - loss: 0.5832 - acc: 0.6949 - val_loss: 0.6425 - val_acc: 0.6531\n",
      "Epoch 25/300\n",
      "554/554 [==============================] - 0s 185us/step - loss: 0.5853 - acc: 0.6986 - val_loss: 0.6265 - val_acc: 0.7143\n",
      "Epoch 26/300\n",
      "554/554 [==============================] - 0s 184us/step - loss: 0.6195 - acc: 0.6805 - val_loss: 0.6696 - val_acc: 0.6735\n",
      "Epoch 27/300\n",
      "554/554 [==============================] - 0s 181us/step - loss: 0.5680 - acc: 0.6949 - val_loss: 0.6294 - val_acc: 0.7347\n",
      "Epoch 28/300\n",
      "554/554 [==============================] - 0s 186us/step - loss: 0.5917 - acc: 0.6751 - val_loss: 0.6130 - val_acc: 0.7245\n",
      "Epoch 29/300\n",
      "554/554 [==============================] - 0s 217us/step - loss: 0.5802 - acc: 0.7004 - val_loss: 0.6224 - val_acc: 0.7041\n",
      "Epoch 30/300\n",
      "554/554 [==============================] - 0s 198us/step - loss: 0.5823 - acc: 0.6949 - val_loss: 0.6230 - val_acc: 0.7143\n",
      "Epoch 31/300\n",
      "554/554 [==============================] - 0s 210us/step - loss: 0.5802 - acc: 0.7004 - val_loss: 0.6401 - val_acc: 0.6633\n",
      "Epoch 32/300\n",
      "554/554 [==============================] - 0s 202us/step - loss: 0.5697 - acc: 0.7040 - val_loss: 0.6293 - val_acc: 0.7143\n",
      "Epoch 33/300\n",
      "554/554 [==============================] - 0s 186us/step - loss: 0.5666 - acc: 0.7202 - val_loss: 0.6111 - val_acc: 0.7449\n",
      "Epoch 34/300\n",
      "554/554 [==============================] - 0s 286us/step - loss: 0.5597 - acc: 0.7058 - val_loss: 0.6364 - val_acc: 0.6837\n",
      "Epoch 35/300\n",
      "554/554 [==============================] - 0s 189us/step - loss: 0.5593 - acc: 0.7130 - val_loss: 0.6221 - val_acc: 0.6531\n",
      "Epoch 36/300\n",
      "554/554 [==============================] - 0s 193us/step - loss: 0.5690 - acc: 0.6986 - val_loss: 0.6267 - val_acc: 0.6735\n",
      "Epoch 37/300\n",
      "554/554 [==============================] - 0s 187us/step - loss: 0.5590 - acc: 0.6986 - val_loss: 0.6572 - val_acc: 0.7143\n",
      "Epoch 38/300\n",
      "554/554 [==============================] - 0s 203us/step - loss: 0.5573 - acc: 0.7202 - val_loss: 0.6126 - val_acc: 0.6837\n",
      "Epoch 39/300\n",
      "554/554 [==============================] - 0s 183us/step - loss: 0.5735 - acc: 0.7094 - val_loss: 0.5984 - val_acc: 0.7551\n",
      "Epoch 40/300\n",
      "554/554 [==============================] - 0s 205us/step - loss: 0.5546 - acc: 0.7238 - val_loss: 0.6121 - val_acc: 0.6939\n",
      "Epoch 41/300\n",
      "554/554 [==============================] - 0s 177us/step - loss: 0.5667 - acc: 0.6986 - val_loss: 0.5914 - val_acc: 0.7347\n",
      "Epoch 42/300\n",
      "554/554 [==============================] - 0s 204us/step - loss: 0.5604 - acc: 0.7040 - val_loss: 0.6027 - val_acc: 0.6939\n",
      "Epoch 43/300\n",
      "554/554 [==============================] - 0s 180us/step - loss: 0.5524 - acc: 0.7148 - val_loss: 0.6041 - val_acc: 0.7041\n",
      "Epoch 44/300\n",
      "554/554 [==============================] - 0s 182us/step - loss: 0.5628 - acc: 0.7184 - val_loss: 0.5962 - val_acc: 0.7347\n",
      "Epoch 45/300\n",
      "554/554 [==============================] - 0s 192us/step - loss: 0.5534 - acc: 0.7274 - val_loss: 0.5932 - val_acc: 0.7653\n",
      "Epoch 46/300\n",
      "554/554 [==============================] - 0s 169us/step - loss: 0.5570 - acc: 0.7094 - val_loss: 0.5929 - val_acc: 0.7143\n",
      "Epoch 47/300\n",
      "554/554 [==============================] - 0s 175us/step - loss: 0.5401 - acc: 0.7347 - val_loss: 0.6376 - val_acc: 0.6735\n",
      "Epoch 48/300\n",
      "554/554 [==============================] - 0s 190us/step - loss: 0.5515 - acc: 0.7166 - val_loss: 0.6931 - val_acc: 0.6735\n",
      "Epoch 49/300\n",
      "554/554 [==============================] - 0s 172us/step - loss: 0.5771 - acc: 0.6931 - val_loss: 0.6016 - val_acc: 0.7041\n",
      "Epoch 50/300\n",
      "554/554 [==============================] - 0s 180us/step - loss: 0.5439 - acc: 0.7202 - val_loss: 0.6049 - val_acc: 0.7449\n",
      "Epoch 51/300\n",
      "554/554 [==============================] - 0s 248us/step - loss: 0.5532 - acc: 0.7220 - val_loss: 0.5988 - val_acc: 0.7347\n",
      "Epoch 52/300\n",
      "554/554 [==============================] - 0s 196us/step - loss: 0.5758 - acc: 0.6751 - val_loss: 0.6057 - val_acc: 0.7041\n",
      "Epoch 53/300\n",
      "554/554 [==============================] - 0s 183us/step - loss: 0.5510 - acc: 0.7292 - val_loss: 0.6542 - val_acc: 0.7245\n",
      "Epoch 54/300\n",
      "554/554 [==============================] - 0s 159us/step - loss: 0.5401 - acc: 0.7166 - val_loss: 0.6401 - val_acc: 0.6633\n",
      "Epoch 55/300\n",
      "554/554 [==============================] - 0s 185us/step - loss: 0.5434 - acc: 0.7329 - val_loss: 0.6196 - val_acc: 0.6735\n",
      "Epoch 56/300\n",
      "554/554 [==============================] - 0s 175us/step - loss: 0.5414 - acc: 0.7473 - val_loss: 0.6081 - val_acc: 0.6939\n",
      "Epoch 57/300\n",
      "554/554 [==============================] - 0s 185us/step - loss: 0.5438 - acc: 0.7256 - val_loss: 0.6037 - val_acc: 0.7245\n",
      "Epoch 58/300\n",
      "554/554 [==============================] - 0s 175us/step - loss: 0.5352 - acc: 0.7509 - val_loss: 0.5771 - val_acc: 0.7245\n",
      "Epoch 59/300\n"
     ]
    },
    {
     "name": "stdout",
     "output_type": "stream",
     "text": [
      "554/554 [==============================] - 0s 202us/step - loss: 0.5575 - acc: 0.7184 - val_loss: 0.5996 - val_acc: 0.7245\n",
      "Epoch 60/300\n",
      "554/554 [==============================] - 0s 186us/step - loss: 0.5421 - acc: 0.7274 - val_loss: 0.5763 - val_acc: 0.7143\n",
      "Epoch 61/300\n",
      "554/554 [==============================] - 0s 171us/step - loss: 0.5299 - acc: 0.7455 - val_loss: 0.5824 - val_acc: 0.7245\n",
      "Epoch 62/300\n",
      "554/554 [==============================] - 0s 173us/step - loss: 0.5337 - acc: 0.7473 - val_loss: 0.5847 - val_acc: 0.7449\n",
      "Epoch 63/300\n",
      "554/554 [==============================] - 0s 185us/step - loss: 0.5336 - acc: 0.7310 - val_loss: 0.5774 - val_acc: 0.7041\n",
      "Epoch 64/300\n",
      "554/554 [==============================] - 0s 190us/step - loss: 0.5327 - acc: 0.7310 - val_loss: 0.5727 - val_acc: 0.6939\n",
      "Epoch 65/300\n",
      "554/554 [==============================] - 0s 227us/step - loss: 0.5589 - acc: 0.7112 - val_loss: 0.5878 - val_acc: 0.7347\n",
      "Epoch 66/300\n",
      "554/554 [==============================] - 0s 176us/step - loss: 0.5421 - acc: 0.7365 - val_loss: 0.5753 - val_acc: 0.7041\n",
      "Epoch 67/300\n",
      "554/554 [==============================] - 0s 174us/step - loss: 0.5306 - acc: 0.7509 - val_loss: 0.5688 - val_acc: 0.7143\n",
      "Epoch 68/300\n",
      "554/554 [==============================] - 0s 179us/step - loss: 0.5460 - acc: 0.7166 - val_loss: 0.5790 - val_acc: 0.7551\n",
      "Epoch 69/300\n",
      "554/554 [==============================] - 0s 183us/step - loss: 0.5377 - acc: 0.7329 - val_loss: 0.6880 - val_acc: 0.6020\n",
      "Epoch 70/300\n",
      "554/554 [==============================] - 0s 164us/step - loss: 0.5695 - acc: 0.7148 - val_loss: 0.5944 - val_acc: 0.7143\n",
      "Epoch 71/300\n",
      "554/554 [==============================] - 0s 176us/step - loss: 0.5470 - acc: 0.7329 - val_loss: 0.5901 - val_acc: 0.6837\n",
      "Epoch 72/300\n",
      "554/554 [==============================] - 0s 169us/step - loss: 0.5455 - acc: 0.7148 - val_loss: 0.6255 - val_acc: 0.6735\n",
      "Epoch 73/300\n",
      "554/554 [==============================] - 0s 173us/step - loss: 0.5376 - acc: 0.7347 - val_loss: 0.5849 - val_acc: 0.7449\n",
      "Epoch 74/300\n",
      "554/554 [==============================] - 0s 164us/step - loss: 0.5246 - acc: 0.7455 - val_loss: 0.5944 - val_acc: 0.7245\n",
      "Epoch 75/300\n",
      "554/554 [==============================] - 0s 172us/step - loss: 0.5314 - acc: 0.7419 - val_loss: 0.5984 - val_acc: 0.6735\n",
      "Epoch 76/300\n",
      "554/554 [==============================] - 0s 171us/step - loss: 0.5371 - acc: 0.7058 - val_loss: 0.5817 - val_acc: 0.7041\n",
      "Epoch 77/300\n",
      "554/554 [==============================] - 0s 173us/step - loss: 0.5304 - acc: 0.7527 - val_loss: 0.6342 - val_acc: 0.6633\n",
      "Epoch 78/300\n",
      "554/554 [==============================] - 0s 169us/step - loss: 0.5317 - acc: 0.7365 - val_loss: 0.5672 - val_acc: 0.7347\n",
      "Epoch 79/300\n",
      "554/554 [==============================] - 0s 172us/step - loss: 0.5314 - acc: 0.7220 - val_loss: 0.5790 - val_acc: 0.6939\n",
      "Epoch 80/300\n",
      "554/554 [==============================] - 0s 166us/step - loss: 0.5282 - acc: 0.7491 - val_loss: 0.5650 - val_acc: 0.6837\n",
      "Epoch 81/300\n",
      "554/554 [==============================] - 0s 164us/step - loss: 0.5273 - acc: 0.7365 - val_loss: 0.6291 - val_acc: 0.7041\n",
      "Epoch 82/300\n",
      "554/554 [==============================] - 0s 171us/step - loss: 0.5360 - acc: 0.7347 - val_loss: 0.5781 - val_acc: 0.6939\n",
      "Epoch 83/300\n",
      "554/554 [==============================] - 0s 170us/step - loss: 0.5272 - acc: 0.7310 - val_loss: 0.5934 - val_acc: 0.7245\n",
      "Epoch 84/300\n",
      "554/554 [==============================] - 0s 161us/step - loss: 0.5280 - acc: 0.7437 - val_loss: 0.5593 - val_acc: 0.7449\n",
      "Epoch 85/300\n",
      "554/554 [==============================] - 0s 170us/step - loss: 0.5196 - acc: 0.7437 - val_loss: 0.5632 - val_acc: 0.7347\n",
      "Epoch 86/300\n",
      "554/554 [==============================] - 0s 163us/step - loss: 0.5152 - acc: 0.7365 - val_loss: 0.5605 - val_acc: 0.7143\n",
      "Epoch 87/300\n",
      "554/554 [==============================] - 0s 206us/step - loss: 0.5239 - acc: 0.7491 - val_loss: 0.5737 - val_acc: 0.7449\n",
      "Epoch 88/300\n",
      "554/554 [==============================] - 0s 169us/step - loss: 0.5144 - acc: 0.7635 - val_loss: 0.6659 - val_acc: 0.6735\n",
      "Epoch 89/300\n",
      "554/554 [==============================] - 0s 159us/step - loss: 0.5395 - acc: 0.7166 - val_loss: 0.5537 - val_acc: 0.7449\n",
      "Epoch 90/300\n",
      "554/554 [==============================] - 0s 176us/step - loss: 0.5350 - acc: 0.7401 - val_loss: 0.5593 - val_acc: 0.6939\n",
      "Epoch 91/300\n",
      "554/554 [==============================] - 0s 158us/step - loss: 0.5238 - acc: 0.7365 - val_loss: 0.5579 - val_acc: 0.7245\n",
      "Epoch 92/300\n",
      "554/554 [==============================] - 0s 171us/step - loss: 0.5273 - acc: 0.7329 - val_loss: 0.5632 - val_acc: 0.7449\n",
      "Epoch 93/300\n",
      "554/554 [==============================] - 0s 188us/step - loss: 0.5331 - acc: 0.7419 - val_loss: 0.5504 - val_acc: 0.7245\n",
      "Epoch 94/300\n",
      "554/554 [==============================] - 0s 175us/step - loss: 0.5233 - acc: 0.7473 - val_loss: 0.5523 - val_acc: 0.7449\n",
      "Epoch 95/300\n",
      "554/554 [==============================] - 0s 162us/step - loss: 0.5193 - acc: 0.7365 - val_loss: 0.5734 - val_acc: 0.7245\n",
      "Epoch 96/300\n",
      "554/554 [==============================] - 0s 189us/step - loss: 0.5356 - acc: 0.7527 - val_loss: 0.5533 - val_acc: 0.7653\n",
      "Epoch 97/300\n",
      "554/554 [==============================] - 0s 214us/step - loss: 0.5063 - acc: 0.7401 - val_loss: 0.5575 - val_acc: 0.7449\n",
      "Epoch 98/300\n",
      "554/554 [==============================] - 0s 187us/step - loss: 0.5287 - acc: 0.7256 - val_loss: 0.5566 - val_acc: 0.7143\n",
      "Epoch 99/300\n",
      "554/554 [==============================] - 0s 171us/step - loss: 0.5235 - acc: 0.7437 - val_loss: 0.5513 - val_acc: 0.7551\n",
      "Epoch 100/300\n",
      "554/554 [==============================] - 0s 153us/step - loss: 0.5184 - acc: 0.7329 - val_loss: 0.5539 - val_acc: 0.6939\n",
      "Epoch 101/300\n",
      "554/554 [==============================] - 0s 157us/step - loss: 0.5194 - acc: 0.7310 - val_loss: 0.5460 - val_acc: 0.7041\n",
      "Epoch 102/300\n",
      "554/554 [==============================] - 0s 163us/step - loss: 0.5061 - acc: 0.7455 - val_loss: 0.5578 - val_acc: 0.7449\n",
      "Epoch 103/300\n",
      "554/554 [==============================] - 0s 175us/step - loss: 0.5190 - acc: 0.7437 - val_loss: 0.5538 - val_acc: 0.7143\n",
      "Epoch 104/300\n",
      "554/554 [==============================] - 0s 170us/step - loss: 0.5210 - acc: 0.7401 - val_loss: 0.5477 - val_acc: 0.7653\n",
      "Epoch 105/300\n",
      "554/554 [==============================] - 0s 163us/step - loss: 0.5122 - acc: 0.7437 - val_loss: 0.5456 - val_acc: 0.7245\n",
      "Epoch 106/300\n",
      "554/554 [==============================] - 0s 167us/step - loss: 0.5230 - acc: 0.7094 - val_loss: 0.5633 - val_acc: 0.7551\n",
      "Epoch 107/300\n",
      "554/554 [==============================] - 0s 161us/step - loss: 0.5158 - acc: 0.7473 - val_loss: 0.5474 - val_acc: 0.7143\n",
      "Epoch 108/300\n",
      "554/554 [==============================] - 0s 234us/step - loss: 0.5067 - acc: 0.7437 - val_loss: 0.5521 - val_acc: 0.6939\n",
      "Epoch 109/300\n",
      "554/554 [==============================] - 0s 180us/step - loss: 0.5259 - acc: 0.7365 - val_loss: 0.5544 - val_acc: 0.6939\n",
      "Epoch 110/300\n",
      "554/554 [==============================] - 0s 194us/step - loss: 0.5090 - acc: 0.7545 - val_loss: 0.5633 - val_acc: 0.7143\n",
      "Epoch 111/300\n",
      "554/554 [==============================] - 0s 189us/step - loss: 0.5090 - acc: 0.7419 - val_loss: 0.5527 - val_acc: 0.7041\n",
      "Epoch 112/300\n",
      "554/554 [==============================] - 0s 270us/step - loss: 0.4965 - acc: 0.7455 - val_loss: 0.5592 - val_acc: 0.7551\n",
      "Epoch 113/300\n",
      "554/554 [==============================] - 0s 189us/step - loss: 0.4979 - acc: 0.7690 - val_loss: 0.5600 - val_acc: 0.7245\n",
      "Epoch 114/300\n",
      "554/554 [==============================] - 0s 166us/step - loss: 0.5127 - acc: 0.7617 - val_loss: 0.5646 - val_acc: 0.7653\n",
      "Epoch 115/300\n",
      "554/554 [==============================] - 0s 196us/step - loss: 0.5168 - acc: 0.7509 - val_loss: 0.5464 - val_acc: 0.6837\n",
      "Epoch 116/300\n",
      "554/554 [==============================] - 0s 205us/step - loss: 0.5023 - acc: 0.7545 - val_loss: 0.5867 - val_acc: 0.7041\n",
      "Epoch 117/300\n",
      "554/554 [==============================] - 0s 188us/step - loss: 0.5258 - acc: 0.7473 - val_loss: 0.5920 - val_acc: 0.7143\n",
      "Epoch 118/300\n",
      "554/554 [==============================] - 0s 165us/step - loss: 0.5229 - acc: 0.7347 - val_loss: 0.5389 - val_acc: 0.7347\n",
      "Epoch 119/300\n"
     ]
    },
    {
     "name": "stdout",
     "output_type": "stream",
     "text": [
      "554/554 [==============================] - 0s 169us/step - loss: 0.5241 - acc: 0.7329 - val_loss: 0.5406 - val_acc: 0.7347\n",
      "Epoch 120/300\n",
      "554/554 [==============================] - 0s 160us/step - loss: 0.5071 - acc: 0.7473 - val_loss: 0.5766 - val_acc: 0.7755\n",
      "Epoch 121/300\n",
      "554/554 [==============================] - 0s 169us/step - loss: 0.5340 - acc: 0.7256 - val_loss: 0.5371 - val_acc: 0.7551\n",
      "Epoch 122/300\n",
      "554/554 [==============================] - 0s 164us/step - loss: 0.5030 - acc: 0.7455 - val_loss: 0.5501 - val_acc: 0.7347\n",
      "Epoch 123/300\n",
      "554/554 [==============================] - 0s 177us/step - loss: 0.4955 - acc: 0.7690 - val_loss: 0.5321 - val_acc: 0.7551\n",
      "Epoch 124/300\n",
      "554/554 [==============================] - 0s 167us/step - loss: 0.4992 - acc: 0.7653 - val_loss: 0.5371 - val_acc: 0.7245\n",
      "Epoch 125/300\n",
      "554/554 [==============================] - 0s 225us/step - loss: 0.4996 - acc: 0.7671 - val_loss: 0.5530 - val_acc: 0.7245\n",
      "Epoch 126/300\n",
      "554/554 [==============================] - 0s 203us/step - loss: 0.5060 - acc: 0.7383 - val_loss: 0.5433 - val_acc: 0.7143\n",
      "Epoch 127/300\n",
      "554/554 [==============================] - 0s 223us/step - loss: 0.4961 - acc: 0.7653 - val_loss: 0.5370 - val_acc: 0.7551\n",
      "Epoch 128/300\n",
      "554/554 [==============================] - 0s 182us/step - loss: 0.5079 - acc: 0.7383 - val_loss: 0.5896 - val_acc: 0.7245\n",
      "Epoch 129/300\n",
      "554/554 [==============================] - 0s 159us/step - loss: 0.5448 - acc: 0.7112 - val_loss: 0.5383 - val_acc: 0.7347\n",
      "Epoch 130/300\n",
      "554/554 [==============================] - 0s 178us/step - loss: 0.4952 - acc: 0.7744 - val_loss: 0.5501 - val_acc: 0.7449\n",
      "Epoch 131/300\n",
      "554/554 [==============================] - 0s 174us/step - loss: 0.5135 - acc: 0.7581 - val_loss: 0.5362 - val_acc: 0.6939\n",
      "Epoch 132/300\n",
      "554/554 [==============================] - 0s 182us/step - loss: 0.5016 - acc: 0.7455 - val_loss: 0.5374 - val_acc: 0.7347\n",
      "Epoch 133/300\n",
      "554/554 [==============================] - 0s 183us/step - loss: 0.5067 - acc: 0.7473 - val_loss: 0.5503 - val_acc: 0.7551\n",
      "Epoch 134/300\n",
      "554/554 [==============================] - 0s 164us/step - loss: 0.4974 - acc: 0.7527 - val_loss: 0.5405 - val_acc: 0.7041\n",
      "Epoch 135/300\n",
      "554/554 [==============================] - 0s 171us/step - loss: 0.4901 - acc: 0.7635 - val_loss: 0.5581 - val_acc: 0.6939\n",
      "Epoch 136/300\n",
      "554/554 [==============================] - 0s 163us/step - loss: 0.4903 - acc: 0.7563 - val_loss: 0.5311 - val_acc: 0.7449\n",
      "Epoch 137/300\n",
      "554/554 [==============================] - 0s 193us/step - loss: 0.4914 - acc: 0.7599 - val_loss: 0.5511 - val_acc: 0.7551\n",
      "Epoch 138/300\n",
      "554/554 [==============================] - 0s 170us/step - loss: 0.5014 - acc: 0.7635 - val_loss: 0.5301 - val_acc: 0.7449\n",
      "Epoch 139/300\n",
      "554/554 [==============================] - 0s 170us/step - loss: 0.5083 - acc: 0.7545 - val_loss: 0.5343 - val_acc: 0.7653\n",
      "Epoch 140/300\n",
      "554/554 [==============================] - 0s 180us/step - loss: 0.4942 - acc: 0.7671 - val_loss: 0.6024 - val_acc: 0.7143\n",
      "Epoch 141/300\n",
      "554/554 [==============================] - 0s 172us/step - loss: 0.5142 - acc: 0.7419 - val_loss: 0.5703 - val_acc: 0.6837\n",
      "Epoch 142/300\n",
      "554/554 [==============================] - 0s 194us/step - loss: 0.4917 - acc: 0.7599 - val_loss: 0.5467 - val_acc: 0.7245\n",
      "Epoch 143/300\n",
      "554/554 [==============================] - 0s 170us/step - loss: 0.5020 - acc: 0.7635 - val_loss: 0.5373 - val_acc: 0.7245\n",
      "Epoch 144/300\n",
      "554/554 [==============================] - 0s 175us/step - loss: 0.4884 - acc: 0.7726 - val_loss: 0.5324 - val_acc: 0.7143\n",
      "Epoch 145/300\n",
      "554/554 [==============================] - 0s 173us/step - loss: 0.4897 - acc: 0.7635 - val_loss: 0.5301 - val_acc: 0.6939\n",
      "Epoch 146/300\n",
      "554/554 [==============================] - 0s 179us/step - loss: 0.4910 - acc: 0.7708 - val_loss: 0.5415 - val_acc: 0.7143\n",
      "Epoch 147/300\n",
      "554/554 [==============================] - 0s 176us/step - loss: 0.4833 - acc: 0.7563 - val_loss: 0.5336 - val_acc: 0.7653\n",
      "Epoch 148/300\n",
      "554/554 [==============================] - 0s 187us/step - loss: 0.5021 - acc: 0.7635 - val_loss: 0.5693 - val_acc: 0.7245\n",
      "Epoch 149/300\n",
      "554/554 [==============================] - 0s 170us/step - loss: 0.4970 - acc: 0.7545 - val_loss: 0.5609 - val_acc: 0.6939\n",
      "Epoch 150/300\n",
      "554/554 [==============================] - 0s 160us/step - loss: 0.4944 - acc: 0.7599 - val_loss: 0.5327 - val_acc: 0.7347\n",
      "Epoch 151/300\n",
      "554/554 [==============================] - 0s 187us/step - loss: 0.4945 - acc: 0.7419 - val_loss: 0.5319 - val_acc: 0.7551\n",
      "Epoch 152/300\n",
      "554/554 [==============================] - 0s 188us/step - loss: 0.4936 - acc: 0.7581 - val_loss: 0.5562 - val_acc: 0.7347\n",
      "Epoch 153/300\n",
      "554/554 [==============================] - 0s 172us/step - loss: 0.5201 - acc: 0.7563 - val_loss: 0.5299 - val_acc: 0.7347\n",
      "Epoch 154/300\n",
      "554/554 [==============================] - 0s 193us/step - loss: 0.4926 - acc: 0.7671 - val_loss: 0.5372 - val_acc: 0.7449\n",
      "Epoch 155/300\n",
      "554/554 [==============================] - 0s 183us/step - loss: 0.4968 - acc: 0.7744 - val_loss: 0.5513 - val_acc: 0.7449\n",
      "Epoch 156/300\n",
      "554/554 [==============================] - 0s 164us/step - loss: 0.4916 - acc: 0.7617 - val_loss: 0.5383 - val_acc: 0.7653\n",
      "Epoch 157/300\n",
      "554/554 [==============================] - 0s 182us/step - loss: 0.4954 - acc: 0.7563 - val_loss: 0.5357 - val_acc: 0.7551\n",
      "Epoch 158/300\n",
      "554/554 [==============================] - 0s 171us/step - loss: 0.5004 - acc: 0.7581 - val_loss: 0.5269 - val_acc: 0.7143\n",
      "Epoch 159/300\n",
      "554/554 [==============================] - 0s 176us/step - loss: 0.4804 - acc: 0.7816 - val_loss: 0.5243 - val_acc: 0.7857\n",
      "Epoch 160/300\n",
      "554/554 [==============================] - 0s 163us/step - loss: 0.4901 - acc: 0.7671 - val_loss: 0.5199 - val_acc: 0.7245\n",
      "Epoch 161/300\n",
      "554/554 [==============================] - 0s 173us/step - loss: 0.4878 - acc: 0.7635 - val_loss: 0.5225 - val_acc: 0.7347\n",
      "Epoch 162/300\n",
      "554/554 [==============================] - 0s 171us/step - loss: 0.4946 - acc: 0.7726 - val_loss: 0.5279 - val_acc: 0.7347\n",
      "Epoch 163/300\n",
      "554/554 [==============================] - 0s 170us/step - loss: 0.4872 - acc: 0.7491 - val_loss: 0.5280 - val_acc: 0.7143\n",
      "Epoch 164/300\n",
      "554/554 [==============================] - 0s 164us/step - loss: 0.4784 - acc: 0.7762 - val_loss: 0.5270 - val_acc: 0.7449\n",
      "Epoch 165/300\n",
      "554/554 [==============================] - 0s 178us/step - loss: 0.4822 - acc: 0.7671 - val_loss: 0.5293 - val_acc: 0.7653\n",
      "Epoch 166/300\n",
      "554/554 [==============================] - 0s 179us/step - loss: 0.4913 - acc: 0.7653 - val_loss: 0.5202 - val_acc: 0.7245\n",
      "Epoch 167/300\n",
      "554/554 [==============================] - 0s 178us/step - loss: 0.4825 - acc: 0.7708 - val_loss: 0.5564 - val_acc: 0.7143\n",
      "Epoch 168/300\n",
      "554/554 [==============================] - 0s 175us/step - loss: 0.4875 - acc: 0.7816 - val_loss: 0.6111 - val_acc: 0.7041\n",
      "Epoch 169/300\n",
      "554/554 [==============================] - 0s 168us/step - loss: 0.4773 - acc: 0.7780 - val_loss: 0.5334 - val_acc: 0.7653\n",
      "Epoch 170/300\n",
      "554/554 [==============================] - 0s 162us/step - loss: 0.4807 - acc: 0.7798 - val_loss: 0.5373 - val_acc: 0.7755\n",
      "Epoch 171/300\n",
      "554/554 [==============================] - 0s 184us/step - loss: 0.4832 - acc: 0.7491 - val_loss: 0.5293 - val_acc: 0.7551\n",
      "Epoch 172/300\n",
      "554/554 [==============================] - 0s 165us/step - loss: 0.4748 - acc: 0.7708 - val_loss: 0.5275 - val_acc: 0.7347\n",
      "Epoch 173/300\n",
      "554/554 [==============================] - 0s 185us/step - loss: 0.4846 - acc: 0.7690 - val_loss: 0.5260 - val_acc: 0.7449\n",
      "Epoch 174/300\n",
      "554/554 [==============================] - 0s 189us/step - loss: 0.4777 - acc: 0.7726 - val_loss: 0.5203 - val_acc: 0.7551\n",
      "Epoch 175/300\n",
      "554/554 [==============================] - 0s 165us/step - loss: 0.4990 - acc: 0.7563 - val_loss: 0.5320 - val_acc: 0.7857\n",
      "Epoch 176/300\n",
      "554/554 [==============================] - 0s 189us/step - loss: 0.5003 - acc: 0.7635 - val_loss: 0.5202 - val_acc: 0.7551\n",
      "Epoch 177/300\n",
      "554/554 [==============================] - 0s 198us/step - loss: 0.4826 - acc: 0.7726 - val_loss: 0.5570 - val_acc: 0.7857\n",
      "Epoch 178/300\n",
      "554/554 [==============================] - 0s 217us/step - loss: 0.4996 - acc: 0.7599 - val_loss: 0.5191 - val_acc: 0.7449\n"
     ]
    },
    {
     "name": "stdout",
     "output_type": "stream",
     "text": [
      "Epoch 179/300\n",
      "554/554 [==============================] - 0s 208us/step - loss: 0.4752 - acc: 0.7726 - val_loss: 0.5297 - val_acc: 0.7551\n",
      "Epoch 180/300\n",
      "554/554 [==============================] - 0s 173us/step - loss: 0.4778 - acc: 0.7635 - val_loss: 0.5265 - val_acc: 0.7245\n",
      "Epoch 181/300\n",
      "554/554 [==============================] - 0s 176us/step - loss: 0.4747 - acc: 0.7744 - val_loss: 0.5427 - val_acc: 0.7041\n",
      "Epoch 182/300\n",
      "554/554 [==============================] - 0s 171us/step - loss: 0.4862 - acc: 0.7563 - val_loss: 0.5355 - val_acc: 0.7041\n",
      "Epoch 183/300\n",
      "554/554 [==============================] - 0s 204us/step - loss: 0.4818 - acc: 0.7671 - val_loss: 0.5241 - val_acc: 0.7347\n",
      "Epoch 184/300\n",
      "554/554 [==============================] - 0s 245us/step - loss: 0.4900 - acc: 0.7581 - val_loss: 0.5343 - val_acc: 0.7347\n",
      "Epoch 185/300\n",
      "554/554 [==============================] - 0s 201us/step - loss: 0.4793 - acc: 0.7690 - val_loss: 0.5293 - val_acc: 0.7347\n",
      "Epoch 186/300\n",
      "554/554 [==============================] - 0s 167us/step - loss: 0.4799 - acc: 0.7708 - val_loss: 0.5370 - val_acc: 0.7653\n",
      "Epoch 187/300\n",
      "554/554 [==============================] - 0s 174us/step - loss: 0.4827 - acc: 0.7671 - val_loss: 0.5483 - val_acc: 0.7143\n",
      "Epoch 188/300\n",
      "554/554 [==============================] - 0s 173us/step - loss: 0.4796 - acc: 0.7726 - val_loss: 0.5678 - val_acc: 0.7551\n",
      "Epoch 189/300\n",
      "554/554 [==============================] - 0s 184us/step - loss: 0.4864 - acc: 0.7563 - val_loss: 0.5249 - val_acc: 0.7551\n",
      "Epoch 190/300\n",
      "554/554 [==============================] - 0s 236us/step - loss: 0.4829 - acc: 0.7726 - val_loss: 0.5321 - val_acc: 0.7449\n",
      "Epoch 191/300\n",
      "554/554 [==============================] - 0s 266us/step - loss: 0.4745 - acc: 0.7942 - val_loss: 0.5116 - val_acc: 0.7551\n",
      "Epoch 192/300\n",
      "554/554 [==============================] - 0s 189us/step - loss: 0.4793 - acc: 0.7527 - val_loss: 0.5251 - val_acc: 0.7551\n",
      "Epoch 193/300\n",
      "554/554 [==============================] - 0s 187us/step - loss: 0.4820 - acc: 0.7834 - val_loss: 0.5316 - val_acc: 0.7653\n",
      "Epoch 194/300\n",
      "554/554 [==============================] - 0s 186us/step - loss: 0.4691 - acc: 0.7726 - val_loss: 0.5108 - val_acc: 0.8061\n",
      "Epoch 195/300\n",
      "554/554 [==============================] - 0s 191us/step - loss: 0.5024 - acc: 0.7419 - val_loss: 0.5378 - val_acc: 0.7245\n",
      "Epoch 196/300\n",
      "554/554 [==============================] - 0s 176us/step - loss: 0.4705 - acc: 0.7870 - val_loss: 0.5169 - val_acc: 0.7449\n",
      "Epoch 197/300\n",
      "554/554 [==============================] - 0s 222us/step - loss: 0.4870 - acc: 0.7708 - val_loss: 0.5895 - val_acc: 0.7449\n",
      "Epoch 198/300\n",
      "554/554 [==============================] - 0s 383us/step - loss: 0.4948 - acc: 0.7671 - val_loss: 0.5437 - val_acc: 0.7449\n",
      "Epoch 199/300\n",
      "554/554 [==============================] - 0s 183us/step - loss: 0.4769 - acc: 0.7653 - val_loss: 0.5435 - val_acc: 0.7245\n",
      "Epoch 200/300\n",
      "554/554 [==============================] - 0s 186us/step - loss: 0.4985 - acc: 0.7617 - val_loss: 0.5368 - val_acc: 0.7245\n",
      "Epoch 201/300\n",
      "554/554 [==============================] - 0s 176us/step - loss: 0.4795 - acc: 0.7708 - val_loss: 0.5244 - val_acc: 0.7653\n",
      "Epoch 202/300\n",
      "554/554 [==============================] - 0s 171us/step - loss: 0.4614 - acc: 0.7906 - val_loss: 0.5430 - val_acc: 0.7143\n",
      "Epoch 203/300\n",
      "554/554 [==============================] - 0s 189us/step - loss: 0.4825 - acc: 0.7671 - val_loss: 0.5251 - val_acc: 0.7755\n",
      "Epoch 204/300\n",
      "554/554 [==============================] - 0s 182us/step - loss: 0.4706 - acc: 0.7798 - val_loss: 0.5183 - val_acc: 0.7551\n",
      "Epoch 205/300\n",
      "554/554 [==============================] - 0s 171us/step - loss: 0.4841 - acc: 0.7581 - val_loss: 0.5459 - val_acc: 0.7245\n",
      "Epoch 206/300\n",
      "554/554 [==============================] - 0s 170us/step - loss: 0.4805 - acc: 0.7744 - val_loss: 0.5399 - val_acc: 0.7041\n",
      "Epoch 207/300\n",
      "554/554 [==============================] - 0s 172us/step - loss: 0.4831 - acc: 0.7545 - val_loss: 0.5170 - val_acc: 0.7347\n",
      "Epoch 208/300\n",
      "554/554 [==============================] - 0s 187us/step - loss: 0.4748 - acc: 0.7762 - val_loss: 0.5484 - val_acc: 0.7245\n",
      "Epoch 209/300\n",
      "554/554 [==============================] - 0s 171us/step - loss: 0.4752 - acc: 0.7780 - val_loss: 0.5392 - val_acc: 0.7755\n",
      "Epoch 210/300\n",
      "554/554 [==============================] - 0s 183us/step - loss: 0.4756 - acc: 0.7888 - val_loss: 0.5189 - val_acc: 0.7347\n",
      "Epoch 211/300\n",
      "554/554 [==============================] - 0s 164us/step - loss: 0.4790 - acc: 0.7635 - val_loss: 0.5170 - val_acc: 0.7449\n",
      "Epoch 212/300\n",
      "554/554 [==============================] - 0s 200us/step - loss: 0.4689 - acc: 0.7690 - val_loss: 0.5171 - val_acc: 0.7245\n",
      "Epoch 213/300\n",
      "554/554 [==============================] - 0s 168us/step - loss: 0.4781 - acc: 0.7690 - val_loss: 0.5726 - val_acc: 0.7755\n",
      "Epoch 214/300\n",
      "554/554 [==============================] - 0s 174us/step - loss: 0.4724 - acc: 0.7726 - val_loss: 0.5033 - val_acc: 0.7551\n",
      "Epoch 215/300\n",
      "554/554 [==============================] - 0s 168us/step - loss: 0.4640 - acc: 0.7816 - val_loss: 0.5249 - val_acc: 0.7347\n",
      "Epoch 216/300\n",
      "554/554 [==============================] - 0s 189us/step - loss: 0.4677 - acc: 0.7762 - val_loss: 0.5227 - val_acc: 0.7449\n",
      "Epoch 217/300\n",
      "554/554 [==============================] - 0s 177us/step - loss: 0.4727 - acc: 0.7617 - val_loss: 0.5230 - val_acc: 0.7551\n",
      "Epoch 218/300\n",
      "554/554 [==============================] - 0s 167us/step - loss: 0.4794 - acc: 0.7653 - val_loss: 0.5544 - val_acc: 0.7551\n",
      "Epoch 219/300\n",
      "554/554 [==============================] - 0s 170us/step - loss: 0.4866 - acc: 0.7671 - val_loss: 0.5156 - val_acc: 0.7347\n",
      "Epoch 220/300\n",
      "554/554 [==============================] - 0s 159us/step - loss: 0.4627 - acc: 0.7744 - val_loss: 0.5249 - val_acc: 0.7755\n",
      "Epoch 221/300\n",
      "554/554 [==============================] - 0s 175us/step - loss: 0.4805 - acc: 0.7545 - val_loss: 0.5193 - val_acc: 0.7449\n",
      "Epoch 222/300\n",
      "554/554 [==============================] - 0s 190us/step - loss: 0.4742 - acc: 0.7690 - val_loss: 0.5624 - val_acc: 0.7143\n",
      "Epoch 223/300\n",
      "554/554 [==============================] - 0s 162us/step - loss: 0.4686 - acc: 0.7780 - val_loss: 0.5161 - val_acc: 0.7449\n",
      "Epoch 224/300\n",
      "554/554 [==============================] - 0s 190us/step - loss: 0.4710 - acc: 0.7780 - val_loss: 0.5249 - val_acc: 0.7143\n",
      "Epoch 225/300\n",
      "554/554 [==============================] - 0s 172us/step - loss: 0.4675 - acc: 0.7888 - val_loss: 0.5202 - val_acc: 0.7347\n",
      "Epoch 226/300\n",
      "554/554 [==============================] - 0s 187us/step - loss: 0.4693 - acc: 0.7852 - val_loss: 0.5365 - val_acc: 0.7551\n",
      "Epoch 227/300\n",
      "554/554 [==============================] - 0s 171us/step - loss: 0.4724 - acc: 0.7726 - val_loss: 0.5242 - val_acc: 0.7653\n",
      "Epoch 228/300\n",
      "554/554 [==============================] - 0s 202us/step - loss: 0.4717 - acc: 0.7762 - val_loss: 0.5194 - val_acc: 0.7347\n",
      "Epoch 229/300\n",
      "554/554 [==============================] - 0s 239us/step - loss: 0.4659 - acc: 0.7762 - val_loss: 0.5154 - val_acc: 0.7449\n",
      "Epoch 230/300\n",
      "554/554 [==============================] - 0s 435us/step - loss: 0.4741 - acc: 0.7798 - val_loss: 0.5173 - val_acc: 0.7449\n",
      "Epoch 231/300\n",
      "554/554 [==============================] - 0s 326us/step - loss: 0.4708 - acc: 0.7780 - val_loss: 0.5142 - val_acc: 0.7347\n",
      "Epoch 232/300\n",
      "554/554 [==============================] - 0s 285us/step - loss: 0.4731 - acc: 0.7708 - val_loss: 0.5153 - val_acc: 0.7653\n",
      "Epoch 233/300\n",
      "554/554 [==============================] - 0s 271us/step - loss: 0.4693 - acc: 0.7708 - val_loss: 0.5051 - val_acc: 0.7551\n",
      "Epoch 234/300\n",
      "554/554 [==============================] - 0s 261us/step - loss: 0.4702 - acc: 0.7617 - val_loss: 0.5474 - val_acc: 0.7551\n",
      "Epoch 235/300\n",
      "554/554 [==============================] - 0s 285us/step - loss: 0.4768 - acc: 0.7708 - val_loss: 0.5246 - val_acc: 0.7551\n",
      "Epoch 236/300\n",
      "554/554 [==============================] - 0s 355us/step - loss: 0.4876 - acc: 0.7581 - val_loss: 0.5189 - val_acc: 0.7245\n",
      "Epoch 237/300\n",
      "554/554 [==============================] - 0s 302us/step - loss: 0.4883 - acc: 0.7780 - val_loss: 0.5400 - val_acc: 0.7449\n",
      "Epoch 238/300\n",
      "554/554 [==============================] - 0s 260us/step - loss: 0.4652 - acc: 0.7798 - val_loss: 0.5035 - val_acc: 0.7449\n"
     ]
    },
    {
     "name": "stdout",
     "output_type": "stream",
     "text": [
      "Epoch 239/300\n",
      "554/554 [==============================] - 0s 203us/step - loss: 0.4644 - acc: 0.7798 - val_loss: 0.5056 - val_acc: 0.7449\n",
      "Epoch 240/300\n",
      "554/554 [==============================] - 0s 222us/step - loss: 0.4697 - acc: 0.7762 - val_loss: 0.5092 - val_acc: 0.7449\n",
      "Epoch 241/300\n",
      "554/554 [==============================] - 0s 195us/step - loss: 0.4827 - acc: 0.7671 - val_loss: 0.5139 - val_acc: 0.7449\n",
      "Epoch 242/300\n",
      "554/554 [==============================] - 0s 229us/step - loss: 0.4606 - acc: 0.7726 - val_loss: 0.5320 - val_acc: 0.7143\n",
      "Epoch 243/300\n",
      "554/554 [==============================] - 0s 419us/step - loss: 0.4697 - acc: 0.7870 - val_loss: 0.5309 - val_acc: 0.7347\n",
      "Epoch 244/300\n",
      "554/554 [==============================] - 0s 230us/step - loss: 0.4663 - acc: 0.7780 - val_loss: 0.5264 - val_acc: 0.7449\n",
      "Epoch 245/300\n",
      "554/554 [==============================] - 0s 210us/step - loss: 0.4839 - acc: 0.7635 - val_loss: 0.5791 - val_acc: 0.7449\n",
      "Epoch 246/300\n",
      "554/554 [==============================] - 0s 176us/step - loss: 0.4877 - acc: 0.7635 - val_loss: 0.5118 - val_acc: 0.7449\n",
      "Epoch 247/300\n",
      "554/554 [==============================] - 0s 193us/step - loss: 0.4805 - acc: 0.7545 - val_loss: 0.5142 - val_acc: 0.7449\n",
      "Epoch 248/300\n",
      "554/554 [==============================] - 0s 231us/step - loss: 0.4593 - acc: 0.7653 - val_loss: 0.5259 - val_acc: 0.7347\n",
      "Epoch 249/300\n",
      "554/554 [==============================] - 0s 271us/step - loss: 0.4582 - acc: 0.7924 - val_loss: 0.5268 - val_acc: 0.7551\n",
      "Epoch 250/300\n",
      "554/554 [==============================] - 0s 238us/step - loss: 0.4731 - acc: 0.7744 - val_loss: 0.5046 - val_acc: 0.7551\n",
      "Epoch 251/300\n",
      "554/554 [==============================] - 0s 249us/step - loss: 0.4745 - acc: 0.7780 - val_loss: 0.5007 - val_acc: 0.7653\n",
      "Epoch 252/300\n",
      "554/554 [==============================] - 0s 207us/step - loss: 0.4643 - acc: 0.7834 - val_loss: 0.5026 - val_acc: 0.7755\n",
      "Epoch 253/300\n",
      "554/554 [==============================] - 0s 198us/step - loss: 0.4599 - acc: 0.7852 - val_loss: 0.5035 - val_acc: 0.7551\n",
      "Epoch 254/300\n",
      "554/554 [==============================] - 0s 178us/step - loss: 0.4616 - acc: 0.7834 - val_loss: 0.5180 - val_acc: 0.7653\n",
      "Epoch 255/300\n",
      "554/554 [==============================] - 0s 180us/step - loss: 0.4644 - acc: 0.7816 - val_loss: 0.5114 - val_acc: 0.7755\n",
      "Epoch 256/300\n",
      "554/554 [==============================] - 0s 177us/step - loss: 0.4698 - acc: 0.7816 - val_loss: 0.5116 - val_acc: 0.7653\n",
      "Epoch 257/300\n",
      "554/554 [==============================] - 0s 252us/step - loss: 0.4657 - acc: 0.7978 - val_loss: 0.5225 - val_acc: 0.7245\n",
      "Epoch 258/300\n",
      "554/554 [==============================] - 0s 247us/step - loss: 0.4620 - acc: 0.7960 - val_loss: 0.5270 - val_acc: 0.7347\n",
      "Epoch 259/300\n",
      "554/554 [==============================] - 0s 258us/step - loss: 0.4670 - acc: 0.7870 - val_loss: 0.5054 - val_acc: 0.7551\n",
      "Epoch 260/300\n",
      "554/554 [==============================] - 0s 220us/step - loss: 0.4816 - acc: 0.7635 - val_loss: 0.5028 - val_acc: 0.7449\n",
      "Epoch 261/300\n",
      "554/554 [==============================] - 0s 262us/step - loss: 0.4699 - acc: 0.7780 - val_loss: 0.5036 - val_acc: 0.7551\n",
      "Epoch 262/300\n",
      "554/554 [==============================] - 0s 223us/step - loss: 0.4687 - acc: 0.7870 - val_loss: 0.5094 - val_acc: 0.7449\n",
      "Epoch 263/300\n",
      "554/554 [==============================] - 0s 180us/step - loss: 0.4527 - acc: 0.7888 - val_loss: 0.5026 - val_acc: 0.7347\n",
      "Epoch 264/300\n",
      "554/554 [==============================] - 0s 174us/step - loss: 0.4619 - acc: 0.7762 - val_loss: 0.5070 - val_acc: 0.7449\n",
      "Epoch 265/300\n",
      "554/554 [==============================] - 0s 176us/step - loss: 0.4761 - acc: 0.7798 - val_loss: 0.5077 - val_acc: 0.7347\n",
      "Epoch 266/300\n",
      "554/554 [==============================] - 0s 182us/step - loss: 0.4715 - acc: 0.7762 - val_loss: 0.5168 - val_acc: 0.7653\n",
      "Epoch 267/300\n",
      "554/554 [==============================] - 0s 218us/step - loss: 0.4724 - acc: 0.7726 - val_loss: 0.4966 - val_acc: 0.7653\n",
      "Epoch 268/300\n",
      "554/554 [==============================] - 0s 230us/step - loss: 0.4673 - acc: 0.7780 - val_loss: 0.4968 - val_acc: 0.7653\n",
      "Epoch 269/300\n",
      "554/554 [==============================] - 0s 204us/step - loss: 0.4665 - acc: 0.7870 - val_loss: 0.5263 - val_acc: 0.7245\n",
      "Epoch 270/300\n",
      "554/554 [==============================] - 0s 189us/step - loss: 0.4662 - acc: 0.7780 - val_loss: 0.5314 - val_acc: 0.7245\n",
      "Epoch 271/300\n",
      "554/554 [==============================] - 0s 176us/step - loss: 0.4643 - acc: 0.7816 - val_loss: 0.5010 - val_acc: 0.7551\n",
      "Epoch 272/300\n",
      "554/554 [==============================] - 0s 171us/step - loss: 0.4654 - acc: 0.7798 - val_loss: 0.5043 - val_acc: 0.7653\n",
      "Epoch 273/300\n",
      "554/554 [==============================] - 0s 172us/step - loss: 0.4580 - acc: 0.7852 - val_loss: 0.5055 - val_acc: 0.7449\n",
      "Epoch 274/300\n",
      "554/554 [==============================] - 0s 168us/step - loss: 0.4609 - acc: 0.7906 - val_loss: 0.5251 - val_acc: 0.7245\n",
      "Epoch 275/300\n",
      "554/554 [==============================] - 0s 191us/step - loss: 0.4623 - acc: 0.7834 - val_loss: 0.5146 - val_acc: 0.7449\n",
      "Epoch 276/300\n",
      "554/554 [==============================] - 0s 167us/step - loss: 0.4744 - acc: 0.7726 - val_loss: 0.5096 - val_acc: 0.7449\n",
      "Epoch 277/300\n",
      "554/554 [==============================] - 0s 170us/step - loss: 0.4640 - acc: 0.7708 - val_loss: 0.5011 - val_acc: 0.7653\n",
      "Epoch 278/300\n",
      "554/554 [==============================] - 0s 184us/step - loss: 0.4649 - acc: 0.7870 - val_loss: 0.5040 - val_acc: 0.7551\n",
      "Epoch 279/300\n",
      "554/554 [==============================] - 0s 177us/step - loss: 0.4600 - acc: 0.7852 - val_loss: 0.5109 - val_acc: 0.7347\n",
      "Epoch 280/300\n",
      "554/554 [==============================] - 0s 195us/step - loss: 0.4555 - acc: 0.7906 - val_loss: 0.5547 - val_acc: 0.7449\n",
      "Epoch 281/300\n",
      "554/554 [==============================] - 0s 211us/step - loss: 0.4601 - acc: 0.7906 - val_loss: 0.5051 - val_acc: 0.7449\n",
      "Epoch 282/300\n",
      "554/554 [==============================] - 0s 190us/step - loss: 0.4533 - acc: 0.7942 - val_loss: 0.5265 - val_acc: 0.7041\n",
      "Epoch 283/300\n",
      "554/554 [==============================] - 0s 171us/step - loss: 0.4801 - acc: 0.7635 - val_loss: 0.5106 - val_acc: 0.7449\n",
      "Epoch 284/300\n",
      "554/554 [==============================] - 0s 183us/step - loss: 0.4580 - acc: 0.7762 - val_loss: 0.5007 - val_acc: 0.7653\n",
      "Epoch 285/300\n",
      "554/554 [==============================] - 0s 172us/step - loss: 0.4535 - acc: 0.7834 - val_loss: 0.5186 - val_acc: 0.7245\n",
      "Epoch 286/300\n",
      "554/554 [==============================] - 0s 171us/step - loss: 0.4570 - acc: 0.7996 - val_loss: 0.5007 - val_acc: 0.7449\n",
      "Epoch 287/300\n",
      "554/554 [==============================] - 0s 176us/step - loss: 0.4595 - acc: 0.7834 - val_loss: 0.5122 - val_acc: 0.8061\n",
      "Epoch 288/300\n",
      "554/554 [==============================] - 0s 173us/step - loss: 0.4608 - acc: 0.7906 - val_loss: 0.5064 - val_acc: 0.7245\n",
      "Epoch 289/300\n",
      "554/554 [==============================] - 0s 171us/step - loss: 0.4591 - acc: 0.7762 - val_loss: 0.4989 - val_acc: 0.7449\n",
      "Epoch 290/300\n",
      "554/554 [==============================] - 0s 172us/step - loss: 0.4516 - acc: 0.8032 - val_loss: 0.5053 - val_acc: 0.7551\n",
      "Epoch 291/300\n",
      "554/554 [==============================] - 0s 168us/step - loss: 0.4594 - acc: 0.7924 - val_loss: 0.5236 - val_acc: 0.7653\n",
      "Epoch 292/300\n",
      "554/554 [==============================] - 0s 187us/step - loss: 0.4612 - acc: 0.7762 - val_loss: 0.5256 - val_acc: 0.7653\n",
      "Epoch 293/300\n",
      "554/554 [==============================] - 0s 169us/step - loss: 0.4704 - acc: 0.7635 - val_loss: 0.5047 - val_acc: 0.7653\n",
      "Epoch 294/300\n",
      "554/554 [==============================] - 0s 190us/step - loss: 0.4769 - acc: 0.7671 - val_loss: 0.5057 - val_acc: 0.7755\n",
      "Epoch 295/300\n",
      "554/554 [==============================] - 0s 183us/step - loss: 0.4578 - acc: 0.7978 - val_loss: 0.5096 - val_acc: 0.7551\n",
      "Epoch 296/300\n",
      "554/554 [==============================] - 0s 173us/step - loss: 0.4521 - acc: 0.8087 - val_loss: 0.4996 - val_acc: 0.7449\n",
      "Epoch 297/300\n",
      "554/554 [==============================] - 0s 172us/step - loss: 0.4669 - acc: 0.7726 - val_loss: 0.5621 - val_acc: 0.7857\n",
      "Epoch 298/300\n",
      "554/554 [==============================] - 0s 168us/step - loss: 0.4697 - acc: 0.7617 - val_loss: 0.5265 - val_acc: 0.7449\n"
     ]
    },
    {
     "name": "stdout",
     "output_type": "stream",
     "text": [
      "Epoch 299/300\n",
      "554/554 [==============================] - 0s 187us/step - loss: 0.4559 - acc: 0.7906 - val_loss: 0.5096 - val_acc: 0.7449\n",
      "Epoch 300/300\n",
      "554/554 [==============================] - 0s 180us/step - loss: 0.4596 - acc: 0.7870 - val_loss: 0.5010 - val_acc: 0.7449\n"
     ]
    }
   ],
   "source": [
    "# Fit the model\n",
    "model.fit(X_train, y_train, epochs = 300, batch_size = 10, validation_split = 0.15)\n",
    "# Use 15% for Validation\n",
    "# Train for 300 epochs\n",
    "# User batch size = 10\n",
    "# Save the model fitting into the variable history\n",
    "# TODO\n",
    "history = model.history"
   ]
  },
  {
   "cell_type": "code",
   "execution_count": 15,
   "metadata": {},
   "outputs": [
    {
     "name": "stdout",
     "output_type": "stream",
     "text": [
      "dict_keys(['val_loss', 'val_acc', 'loss', 'acc'])\n"
     ]
    }
   ],
   "source": [
    "# list all data in history\n",
    "print(history.history.keys())"
   ]
  },
  {
   "cell_type": "code",
   "execution_count": 16,
   "metadata": {},
   "outputs": [
    {
     "data": {
      "image/png": "[encoded data removed]",
      "text/plain": [
       "<Figure size 432x288 with 1 Axes>"
      ]
     },
     "metadata": {
      "needs_background": "light"
     },
     "output_type": "display_data"
    }
   ],
   "source": [
    "# Plot the History of Training Loss (history.history['loss']) and the Validation Loss (history.history['val_loss'])\n",
    "# Title should be \"Model Loss\"\n",
    "# x label: \"Loss\"\n",
    "# y label: \"Epoch\"\n",
    "# Legend: \"Train\" and \"Validation\"\n",
    "plt.plot(history.history['loss'])\n",
    "plt.plot(history.history['val_loss'])\n",
    "plt.title('Model Loss')\n",
    "plt.xlabel('Epoch')\n",
    "plt.ylabel('Loss')\n",
    "plt.legend(['Train', 'Validation'])\n",
    "plt.show()"
   ]
  },
  {
   "cell_type": "code",
   "execution_count": 17,
   "metadata": {},
   "outputs": [
    {
     "data": {
      "image/png": "[encoded data removed]",
      "text/plain": [
       "<Figure size 432x288 with 1 Axes>"
      ]
     },
     "metadata": {
      "needs_background": "light"
     },
     "output_type": "display_data"
    }
   ],
   "source": [
    "# Plot the History of Training Accuracy (history.history['acc']) and \n",
    "# the Validation Accuracy (history.history['val_acc'])\n",
    "#\n",
    "# Title should be \"Model Accuracy\"\n",
    "# x label: \"Accuracy\"\n",
    "# y label: \"Epoch\"\n",
    "# Legend: \"Train\" and \"Validation\"\n",
    "plt.plot(history.history['acc'])\n",
    "plt.plot(history.history['val_acc'])\n",
    "plt.title('Model Accuracy')\n",
    "plt.xlabel('Epoch')\n",
    "plt.ylabel('Accuracy')\n",
    "plt.legend(['Train', 'Validation'])\n",
    "plt.show()"
   ]
  },
  {
   "cell_type": "code",
   "execution_count": 18,
   "metadata": {},
   "outputs": [
    {
     "name": "stdout",
     "output_type": "stream",
     "text": [
      "116/116 [==============================] - 0s 190us/step\n"
     ]
    }
   ],
   "source": [
    "# Evaluate the loss and accuracy on the test data\n",
    "loss, accuracy = model.evaluate(X_test, y_test)"
   ]
  },
  {
   "cell_type": "code",
   "execution_count": 19,
   "metadata": {},
   "outputs": [
    {
     "name": "stdout",
     "output_type": "stream",
     "text": [
      "Test loss score: 0.5370843924325088\n",
      "Test accuracy: 0.73275861657899\n"
     ]
    }
   ],
   "source": [
    "print('Test loss score:', loss)\n",
    "print('Test accuracy:', accuracy)"
   ]
  },
  {
   "cell_type": "code",
   "execution_count": null,
   "metadata": {},
   "outputs": [],
   "source": []
  }
 ],
 "metadata": {
  "kernelspec": {
   "display_name": "Python 3",
   "language": "python",
   "name": "python3"
  },
  "language_info": {
   "codemirror_mode": {
    "name": "ipython",
    "version": 3
   },
   "file_extension": ".py",
   "mimetype": "text/x-python",
   "name": "python",
   "nbconvert_exporter": "python",
   "pygments_lexer": "ipython3",
   "version": "3.7.3"
  },
  "varInspector": {
   "cols": {
    "lenName": 16,
    "lenType": 16,
    "lenVar": 40
   },
   "kernels_config": {
    "python": {
     "delete_cmd_postfix": "",
     "delete_cmd_prefix": "del ",
     "library": "var_list.py",
     "varRefreshCmd": "print(var_dic_list())"
    },
    "r": {
     "delete_cmd_postfix": ") ",
     "delete_cmd_prefix": "rm(",
     "library": "var_list.r",
     "varRefreshCmd": "cat(var_dic_list()) "
    }
   },
   "types_to_exclude": [
    "module",
    "function",
    "builtin_function_or_method",
    "instance",
    "_Feature"
   ],
   "window_display": false
  }
 },
 "nbformat": 4,
 "nbformat_minor": 2
}
